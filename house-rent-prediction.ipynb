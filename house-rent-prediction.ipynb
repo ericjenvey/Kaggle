{
 "cells": [
  {
   "cell_type": "code",
   "execution_count": 1,
   "id": "d8fdeef8",
   "metadata": {
    "_cell_guid": "b1076dfc-b9ad-4769-8c92-a6c4dae69d19",
    "_uuid": "8f2839f25d086af736a60e9eeb907d3b93b6e0e5",
    "execution": {
     "iopub.execute_input": "2022-08-18T13:21:26.375831Z",
     "iopub.status.busy": "2022-08-18T13:21:26.375369Z",
     "iopub.status.idle": "2022-08-18T13:21:27.554568Z",
     "shell.execute_reply": "2022-08-18T13:21:27.553600Z"
    },
    "papermill": {
     "duration": 1.193436,
     "end_time": "2022-08-18T13:21:27.557249",
     "exception": false,
     "start_time": "2022-08-18T13:21:26.363813",
     "status": "completed"
    },
    "tags": []
   },
   "outputs": [
    {
     "name": "stdout",
     "output_type": "stream",
     "text": [
      "/kaggle/input/house-rent-prediction-dataset/Dataset Glossary.txt\n",
      "/kaggle/input/house-rent-prediction-dataset/House_Rent_Dataset.csv\n"
     ]
    }
   ],
   "source": [
    "# This Python 3 environment comes with many helpful analytics libraries installed\n",
    "# It is defined by the kaggle/python Docker image: https://github.com/kaggle/docker-python\n",
    "# For example, here's several helpful packages to load\n",
    "\n",
    "import numpy as np # linear algebra\n",
    "import pandas as pd # data processing, CSV file I/O (e.g. pd.read_csv)\n",
    "import seaborn as sns\n",
    "import scipy\n",
    "\n",
    "# Input data files are available in the read-only \"../input/\" directory\n",
    "# For example, running this (by clicking run or pressing Shift+Enter) will list all files under the input directory\n",
    "\n",
    "import os\n",
    "for dirname, _, filenames in os.walk('/kaggle/input'):\n",
    "    for filename in filenames:\n",
    "        print(os.path.join(dirname, filename))\n",
    "\n",
    "# You can write up to 20GB to the current directory (/kaggle/working/) that gets preserved as output when you create a version using \"Save & Run All\" \n",
    "# You can also write temporary files to /kaggle/temp/, but they won't be saved outside of the current session\n",
    "\n",
    "pd.set_option('display.float_format', lambda x: \"%.5f\" % x)"
   ]
  },
  {
   "cell_type": "code",
   "execution_count": 2,
   "id": "9bdb3169",
   "metadata": {
    "execution": {
     "iopub.execute_input": "2022-08-18T13:21:27.576627Z",
     "iopub.status.busy": "2022-08-18T13:21:27.575558Z",
     "iopub.status.idle": "2022-08-18T13:21:27.582025Z",
     "shell.execute_reply": "2022-08-18T13:21:27.580910Z"
    },
    "papermill": {
     "duration": 0.018218,
     "end_time": "2022-08-18T13:21:27.584250",
     "exception": false,
     "start_time": "2022-08-18T13:21:27.566032",
     "status": "completed"
    },
    "tags": []
   },
   "outputs": [],
   "source": [
    "# Helper Functions\n",
    "\n",
    "# Rent summary calc\n",
    "def rent_summary(col_name):\n",
    "    return rent_data.groupby(col_name).agg({'Rent': ['mean', 'min','max', 'count']})\n",
    "\n",
    "def run_ttest_avg_rent(col_name, col_value1, col_value2):\n",
    "    return scipy.stats.ttest_ind(a=rent_data[rent_data[col_name] == col_value1].Rent, b= rent_data[rent_data[col_name] == col_value2].Rent)"
   ]
  },
  {
   "cell_type": "code",
   "execution_count": 3,
   "id": "8d71d723",
   "metadata": {
    "execution": {
     "iopub.execute_input": "2022-08-18T13:21:27.602819Z",
     "iopub.status.busy": "2022-08-18T13:21:27.602405Z",
     "iopub.status.idle": "2022-08-18T13:21:27.693495Z",
     "shell.execute_reply": "2022-08-18T13:21:27.691900Z"
    },
    "papermill": {
     "duration": 0.103782,
     "end_time": "2022-08-18T13:21:27.696709",
     "exception": false,
     "start_time": "2022-08-18T13:21:27.592927",
     "status": "completed"
    },
    "tags": []
   },
   "outputs": [
    {
     "name": "stdout",
     "output_type": "stream",
     "text": [
      "BHK: Number of Bedrooms, Hall, Kitchen.\n",
      "\n",
      "Rent: Price of the Houses/Apartments/Flats.\n",
      "\n",
      "Size: Size of the Houses/Apartments/Flats in Square Feet.\n",
      "\n",
      "Floor: Houses/Apartments/Flats situated in which Floor and Total Number of Floors (Example: Ground out of 2, 3 out of 5, etc.)\n",
      "\n",
      "Area Type: Size of the Houses/Apartments/Flats calculated on either Super Area or Carpet Area or Build Area.\n",
      "\n",
      "Area Locality: Locality of the Houses/Apartments/Flats.\n",
      "\n",
      "City: City where the Houses/Apartments/Flats are Located.\n",
      "\n",
      "Furnishing Status: Furnishing Status of the Houses/Apartments/Flats, either it is Furnished or Semi-Furnished or Unfurnished.\n",
      "\n",
      "Tenant Preferred: Type of Tenant Preferred by the Owner or Agent.\n",
      "\n",
      "Bathroom: Number of Bathrooms.\n",
      "\n",
      "Point of Contact: Whom should you contact for more information regarding the Houses/Apartments/Flats.\n"
     ]
    }
   ],
   "source": [
    "f = open('/kaggle/input/house-rent-prediction-dataset/Dataset Glossary.txt', 'r')\n",
    "print(f.read())"
   ]
  },
  {
   "cell_type": "code",
   "execution_count": 4,
   "id": "ce9c23bb",
   "metadata": {
    "execution": {
     "iopub.execute_input": "2022-08-18T13:21:27.717330Z",
     "iopub.status.busy": "2022-08-18T13:21:27.716316Z",
     "iopub.status.idle": "2022-08-18T13:21:27.881776Z",
     "shell.execute_reply": "2022-08-18T13:21:27.880447Z"
    },
    "papermill": {
     "duration": 0.179366,
     "end_time": "2022-08-18T13:21:27.885886",
     "exception": false,
     "start_time": "2022-08-18T13:21:27.706520",
     "status": "completed"
    },
    "tags": []
   },
   "outputs": [
    {
     "name": "stdout",
     "output_type": "stream",
     "text": [
      "Shape of dataset is (4746, 12) \n",
      "\n",
      "Posted On            object\n",
      "BHK                   int64\n",
      "Rent                  int64\n",
      "Size                  int64\n",
      "Floor                object\n",
      "Area Type            object\n",
      "Area Locality        object\n",
      "City                 object\n",
      "Furnishing Status    object\n",
      "Tenant Preferred     object\n",
      "Bathroom              int64\n",
      "Point of Contact     object\n",
      "dtype: object\n"
     ]
    },
    {
     "data": {
      "text/html": [
       "<div>\n",
       "<style scoped>\n",
       "    .dataframe tbody tr th:only-of-type {\n",
       "        vertical-align: middle;\n",
       "    }\n",
       "\n",
       "    .dataframe tbody tr th {\n",
       "        vertical-align: top;\n",
       "    }\n",
       "\n",
       "    .dataframe thead th {\n",
       "        text-align: right;\n",
       "    }\n",
       "</style>\n",
       "<table border=\"1\" class=\"dataframe\">\n",
       "  <thead>\n",
       "    <tr style=\"text-align: right;\">\n",
       "      <th></th>\n",
       "      <th>Posted On</th>\n",
       "      <th>BHK</th>\n",
       "      <th>Rent</th>\n",
       "      <th>Size</th>\n",
       "      <th>Floor</th>\n",
       "      <th>Area Type</th>\n",
       "      <th>Area Locality</th>\n",
       "      <th>City</th>\n",
       "      <th>Furnishing Status</th>\n",
       "      <th>Tenant Preferred</th>\n",
       "      <th>Bathroom</th>\n",
       "      <th>Point of Contact</th>\n",
       "    </tr>\n",
       "  </thead>\n",
       "  <tbody>\n",
       "    <tr>\n",
       "      <th>0</th>\n",
       "      <td>2022-05-18</td>\n",
       "      <td>2</td>\n",
       "      <td>10000</td>\n",
       "      <td>1100</td>\n",
       "      <td>Ground out of 2</td>\n",
       "      <td>Super Area</td>\n",
       "      <td>Bandel</td>\n",
       "      <td>Kolkata</td>\n",
       "      <td>Unfurnished</td>\n",
       "      <td>Bachelors/Family</td>\n",
       "      <td>2</td>\n",
       "      <td>Contact Owner</td>\n",
       "    </tr>\n",
       "    <tr>\n",
       "      <th>1</th>\n",
       "      <td>2022-05-13</td>\n",
       "      <td>2</td>\n",
       "      <td>20000</td>\n",
       "      <td>800</td>\n",
       "      <td>1 out of 3</td>\n",
       "      <td>Super Area</td>\n",
       "      <td>Phool Bagan, Kankurgachi</td>\n",
       "      <td>Kolkata</td>\n",
       "      <td>Semi-Furnished</td>\n",
       "      <td>Bachelors/Family</td>\n",
       "      <td>1</td>\n",
       "      <td>Contact Owner</td>\n",
       "    </tr>\n",
       "    <tr>\n",
       "      <th>2</th>\n",
       "      <td>2022-05-16</td>\n",
       "      <td>2</td>\n",
       "      <td>17000</td>\n",
       "      <td>1000</td>\n",
       "      <td>1 out of 3</td>\n",
       "      <td>Super Area</td>\n",
       "      <td>Salt Lake City Sector 2</td>\n",
       "      <td>Kolkata</td>\n",
       "      <td>Semi-Furnished</td>\n",
       "      <td>Bachelors/Family</td>\n",
       "      <td>1</td>\n",
       "      <td>Contact Owner</td>\n",
       "    </tr>\n",
       "    <tr>\n",
       "      <th>3</th>\n",
       "      <td>2022-07-04</td>\n",
       "      <td>2</td>\n",
       "      <td>10000</td>\n",
       "      <td>800</td>\n",
       "      <td>1 out of 2</td>\n",
       "      <td>Super Area</td>\n",
       "      <td>Dumdum Park</td>\n",
       "      <td>Kolkata</td>\n",
       "      <td>Unfurnished</td>\n",
       "      <td>Bachelors/Family</td>\n",
       "      <td>1</td>\n",
       "      <td>Contact Owner</td>\n",
       "    </tr>\n",
       "    <tr>\n",
       "      <th>4</th>\n",
       "      <td>2022-05-09</td>\n",
       "      <td>2</td>\n",
       "      <td>7500</td>\n",
       "      <td>850</td>\n",
       "      <td>1 out of 2</td>\n",
       "      <td>Carpet Area</td>\n",
       "      <td>South Dum Dum</td>\n",
       "      <td>Kolkata</td>\n",
       "      <td>Unfurnished</td>\n",
       "      <td>Bachelors</td>\n",
       "      <td>1</td>\n",
       "      <td>Contact Owner</td>\n",
       "    </tr>\n",
       "  </tbody>\n",
       "</table>\n",
       "</div>"
      ],
      "text/plain": [
       "    Posted On  BHK   Rent  Size            Floor    Area Type  \\\n",
       "0  2022-05-18    2  10000  1100  Ground out of 2   Super Area   \n",
       "1  2022-05-13    2  20000   800       1 out of 3   Super Area   \n",
       "2  2022-05-16    2  17000  1000       1 out of 3   Super Area   \n",
       "3  2022-07-04    2  10000   800       1 out of 2   Super Area   \n",
       "4  2022-05-09    2   7500   850       1 out of 2  Carpet Area   \n",
       "\n",
       "              Area Locality     City Furnishing Status  Tenant Preferred  \\\n",
       "0                    Bandel  Kolkata       Unfurnished  Bachelors/Family   \n",
       "1  Phool Bagan, Kankurgachi  Kolkata    Semi-Furnished  Bachelors/Family   \n",
       "2   Salt Lake City Sector 2  Kolkata    Semi-Furnished  Bachelors/Family   \n",
       "3               Dumdum Park  Kolkata       Unfurnished  Bachelors/Family   \n",
       "4             South Dum Dum  Kolkata       Unfurnished         Bachelors   \n",
       "\n",
       "   Bathroom Point of Contact  \n",
       "0         2    Contact Owner  \n",
       "1         1    Contact Owner  \n",
       "2         1    Contact Owner  \n",
       "3         1    Contact Owner  \n",
       "4         1    Contact Owner  "
      ]
     },
     "execution_count": 4,
     "metadata": {},
     "output_type": "execute_result"
    }
   ],
   "source": [
    "rent_data = pd.read_csv('/kaggle/input/house-rent-prediction-dataset/House_Rent_Dataset.csv')\n",
    "\n",
    "print(f\"Shape of dataset is {rent_data.shape} \\n\")\n",
    "print(rent_data.dtypes)\n",
    "rent_data.head()"
   ]
  },
  {
   "cell_type": "code",
   "execution_count": 5,
   "id": "598dfac5",
   "metadata": {
    "execution": {
     "iopub.execute_input": "2022-08-18T13:21:27.906093Z",
     "iopub.status.busy": "2022-08-18T13:21:27.905202Z",
     "iopub.status.idle": "2022-08-18T13:21:27.920153Z",
     "shell.execute_reply": "2022-08-18T13:21:27.919238Z"
    },
    "papermill": {
     "duration": 0.027363,
     "end_time": "2022-08-18T13:21:27.922410",
     "exception": false,
     "start_time": "2022-08-18T13:21:27.895047",
     "status": "completed"
    },
    "tags": []
   },
   "outputs": [
    {
     "data": {
      "text/plain": [
       "count      4746.00000\n",
       "mean      34993.45133\n",
       "std       78106.41294\n",
       "min        1200.00000\n",
       "25%       10000.00000\n",
       "50%       16000.00000\n",
       "75%       33000.00000\n",
       "max     3500000.00000\n",
       "Name: Rent, dtype: float64"
      ]
     },
     "execution_count": 5,
     "metadata": {},
     "output_type": "execute_result"
    }
   ],
   "source": [
    "rent_data[\"Rent\"].describe()\n"
   ]
  },
  {
   "cell_type": "code",
   "execution_count": 6,
   "id": "cb5160e6",
   "metadata": {
    "execution": {
     "iopub.execute_input": "2022-08-18T13:21:27.942265Z",
     "iopub.status.busy": "2022-08-18T13:21:27.941842Z",
     "iopub.status.idle": "2022-08-18T13:21:28.031101Z",
     "shell.execute_reply": "2022-08-18T13:21:28.029632Z"
    },
    "papermill": {
     "duration": 0.102949,
     "end_time": "2022-08-18T13:21:28.034300",
     "exception": false,
     "start_time": "2022-08-18T13:21:27.931351",
     "status": "completed"
    },
    "tags": []
   },
   "outputs": [
    {
     "name": "stdout",
     "output_type": "stream",
     "text": [
      "BHK                     int64\n",
      "Size                    int64\n",
      "Area Type            category\n",
      "City                 category\n",
      "Furnishing Status    category\n",
      "Tenant Preferred     category\n",
      "Bathroom                int64\n",
      "Point of Contact     category\n",
      "posted_on_month      category\n",
      "apartment_floor         int64\n",
      "total_floors            int64\n",
      "Rent_transform        float64\n",
      "dtype: object\n"
     ]
    },
    {
     "name": "stderr",
     "output_type": "stream",
     "text": [
      "/opt/conda/lib/python3.7/site-packages/ipykernel_launcher.py:20: FutureWarning: The default value of regex will change from True to False in a future version.\n"
     ]
    },
    {
     "data": {
      "text/plain": [
       "BHK                                  0\n",
       "Size                                 0\n",
       "Bathroom                             0\n",
       "apartment_floor                      0\n",
       "total_floors                         0\n",
       "Rent_transform                       0\n",
       "Area Type_Built Area                 0\n",
       "Area Type_Carpet Area                0\n",
       "Area Type_Super Area                 0\n",
       "City_Bangalore                       0\n",
       "City_Chennai                         0\n",
       "City_Delhi                           0\n",
       "City_Hyderabad                       0\n",
       "City_Kolkata                         0\n",
       "City_Mumbai                          0\n",
       "Furnishing Status_Furnished          0\n",
       "Furnishing Status_Semi-Furnished     0\n",
       "Furnishing Status_Unfurnished        0\n",
       "Tenant Preferred_Bachelors           0\n",
       "Tenant Preferred_Bachelors/Family    0\n",
       "Tenant Preferred_Family              0\n",
       "Point of Contact_Contact Agent       0\n",
       "Point of Contact_Contact Builder     0\n",
       "Point of Contact_Contact Owner       0\n",
       "posted_on_month_4                    0\n",
       "posted_on_month_5                    0\n",
       "posted_on_month_6                    0\n",
       "posted_on_month_7                    0\n",
       "dtype: int64"
      ]
     },
     "execution_count": 6,
     "metadata": {},
     "output_type": "execute_result"
    }
   ],
   "source": [
    "# Data Conversions\n",
    "rent_data[\"Posted On\"] = pd.to_datetime(rent_data[\"Posted On\"])\n",
    "rent_data[\"Area Type\"] = rent_data[\"Area Type\"].astype('category')\n",
    "rent_data[\"City\"] = rent_data[\"City\"].astype('category')\n",
    "rent_data[\"Furnishing Status\"] = rent_data[\"Furnishing Status\"].astype('category')\n",
    "rent_data[\"Tenant Preferred\"] = rent_data[\"Tenant Preferred\"].astype('category')\n",
    "rent_data[\"Point of Contact\"] = rent_data[\"Point of Contact\"].astype('category')\n",
    "\n",
    "# Add date part columns\n",
    "rent_data[\"posted_on_month\"] = rent_data[\"Posted On\"].dt.month.astype('category')\n",
    "rent_data[\"posted_on_weekday\"] = rent_data[\"Posted On\"].dt.weekday.astype('category')\n",
    "rent_data[\"posted_on_dayofyear\"] = rent_data[\"Posted On\"].dt.dayofyear\n",
    "\n",
    "rent_data[\"apartment_floor\"] = rent_data[\"Floor\"].str.extract(r'(.*?)out')\n",
    "rent_data[\"apartment_floor\"] = rent_data.apartment_floor.combine_first(rent_data.Floor)\n",
    "rent_data[\"total_floors\"] = rent_data[\"Floor\"].str.extract(r'of (\\d*)')\n",
    "# assuming with no total floors, the given floor is the top floor\n",
    "rent_data[\"total_floors\"] = rent_data.total_floors.combine_first(rent_data.Floor)\n",
    "# Replace Ground with 1\n",
    "rent_data[\"apartment_floor\"] = rent_data[\"apartment_floor\"].str.replace(\"Ground|Upper Basement|Lower Basement\", \"1\").astype(\"int\")\n",
    "rent_data[\"total_floors\"] = rent_data[\"total_floors\"].str.replace(\"Ground\", \"1\").astype(\"int\")\n",
    "rent_data[\"pct_up_building\"] = rent_data[\"apartment_floor\"] / rent_data[\"total_floors\"]\n",
    "\n",
    "# Log transform response to lessen impact of outliers\n",
    "rent_data[\"Rent_transform\"] = np.log10(rent_data[\"Rent\"])\n",
    "\n",
    "# Drop unneeded columns\n",
    "rent_data_modeling = rent_data.drop(['Posted On', 'Floor', 'posted_on_dayofyear', 'Rent', 'pct_up_building', 'Area Locality', 'posted_on_weekday'], axis=1)\n",
    "\n",
    "# Manually running one-hot encoding due to issues with OneHotEncoder Pipeline preprocessor not allowing for non-numeric categories\n",
    "rent_data_modeling_dummies = pd.get_dummies(rent_data_modeling)\n",
    "\n",
    "rent_data.head()\n",
    "print(rent_data_modeling.dtypes)\n",
    "rent_data_modeling_dummies.isna().sum()"
   ]
  },
  {
   "cell_type": "code",
   "execution_count": 7,
   "id": "beb8b2c9",
   "metadata": {
    "execution": {
     "iopub.execute_input": "2022-08-18T13:21:28.054958Z",
     "iopub.status.busy": "2022-08-18T13:21:28.054511Z",
     "iopub.status.idle": "2022-08-18T13:21:29.785069Z",
     "shell.execute_reply": "2022-08-18T13:21:29.783974Z"
    },
    "papermill": {
     "duration": 1.744149,
     "end_time": "2022-08-18T13:21:29.787761",
     "exception": false,
     "start_time": "2022-08-18T13:21:28.043612",
     "status": "completed"
    },
    "tags": []
   },
   "outputs": [],
   "source": [
    "X = rent_data_modeling_dummies.drop(['Rent_transform'], axis = 1)\n",
    "y = rent_data_modeling_dummies['Rent_transform']\n",
    "\n",
    "from sklearn.model_selection import train_test_split\n",
    "\n",
    "X_train, X_test, y_train, y_test = train_test_split(\n",
    "X, y, test_size = 0.3, random_state = 1\n",
    ")\n",
    "\n",
    "from sklearn.pipeline import make_pipeline\n",
    "from sklearn.linear_model import Lasso\n",
    "from sklearn.ensemble import RandomForestRegressor\n",
    "from sklearn.preprocessing import StandardScaler, LabelBinarizer, OneHotEncoder\n",
    "from sklearn.compose import make_column_selector as selector\n",
    "from sklearn.compose import ColumnTransformer\n",
    "\n",
    "\n",
    "#numerical_columns_selector = selector(dtype_exclude=\"category\")\n",
    "#categorical_columns_selector = selector(dtype_include=\"category\")\n",
    "\n",
    "#numerical_columns = numerical_columns_selector(X)\n",
    "#categorical_columns = categorical_columns_selector(X)\n",
    "\n",
    "#categorical_preprocessor = OneHotEncoder()\n",
    "#numerical_preprocessor = StandardScaler()\n",
    "\n",
    "#preprocessor = ColumnTransformer([\n",
    "    #('one-hot-encoder', categorical_preprocessor, categorical_columns),\n",
    "    #('standard_scaler', numerical_preprocessor, numerical_columns)])\n",
    "\n",
    "pipe = make_pipeline(StandardScaler(), RandomForestRegressor())\n",
    "\n",
    "my_model = pipe.fit(X_train, y_train)\n",
    "\n",
    "y_pred = my_model.predict(X_test)\n",
    "\n",
    "from sklearn import metrics\n",
    "#import library\n",
    "# constructor\n",
    "# .fit(X_train, y_train)\n",
    "# .predict(X_test)\n",
    "# run RMSE or another scoring metric\n"
   ]
  },
  {
   "cell_type": "code",
   "execution_count": 8,
   "id": "232ee8fd",
   "metadata": {
    "execution": {
     "iopub.execute_input": "2022-08-18T13:21:29.809304Z",
     "iopub.status.busy": "2022-08-18T13:21:29.808897Z",
     "iopub.status.idle": "2022-08-18T13:21:29.834941Z",
     "shell.execute_reply": "2022-08-18T13:21:29.833794Z"
    },
    "papermill": {
     "duration": 0.039184,
     "end_time": "2022-08-18T13:21:29.837516",
     "exception": false,
     "start_time": "2022-08-18T13:21:29.798332",
     "status": "completed"
    },
    "tags": []
   },
   "outputs": [
    {
     "data": {
      "text/plain": [
       "[('BHK', 0.023527172471503027),\n",
       " ('Size', 0.13931656520837774),\n",
       " ('Bathroom', 0.22726007636672438),\n",
       " ('apartment_floor', 0.019521534925057878),\n",
       " ('total_floors', 0.0726999360258565),\n",
       " ('Area Type_Built Area', 6.461600821286537e-06),\n",
       " ('Area Type_Carpet Area', 0.0042095668795272),\n",
       " ('Area Type_Super Area', 0.004247602017010532),\n",
       " ('City_Bangalore', 0.004147923699844043),\n",
       " ('City_Chennai', 0.003209044155293355),\n",
       " ('City_Delhi', 0.01031585463261333),\n",
       " ('City_Hyderabad', 0.004145741081507199),\n",
       " ('City_Kolkata', 0.006758053980216414),\n",
       " ('City_Mumbai', 0.07537021249228254),\n",
       " ('Furnishing Status_Furnished', 0.008811991494137009),\n",
       " ('Furnishing Status_Semi-Furnished', 0.0042560686876532885),\n",
       " ('Furnishing Status_Unfurnished', 0.00861376377007038),\n",
       " ('Tenant Preferred_Bachelors', 0.00450494197084885),\n",
       " ('Tenant Preferred_Bachelors/Family', 0.004037488679539095),\n",
       " ('Tenant Preferred_Family', 0.004617367327091925),\n",
       " ('Point of Contact_Contact Agent', 0.3377436795685083),\n",
       " ('Point of Contact_Contact Builder', 3.9238045445569386e-06),\n",
       " ('Point of Contact_Contact Owner', 0.013253566452321924),\n",
       " ('posted_on_month_4', 0.0020133475183857002),\n",
       " ('posted_on_month_5', 0.005539256644370045),\n",
       " ('posted_on_month_6', 0.006412429321915421),\n",
       " ('posted_on_month_7', 0.005456429223978014)]"
      ]
     },
     "execution_count": 8,
     "metadata": {},
     "output_type": "execute_result"
    }
   ],
   "source": [
    "list(zip(X.columns, pipe[1].feature_importances_))"
   ]
  },
  {
   "cell_type": "code",
   "execution_count": 9,
   "id": "82507ec6",
   "metadata": {
    "execution": {
     "iopub.execute_input": "2022-08-18T13:21:29.858979Z",
     "iopub.status.busy": "2022-08-18T13:21:29.857925Z",
     "iopub.status.idle": "2022-08-18T13:21:29.866784Z",
     "shell.execute_reply": "2022-08-18T13:21:29.865494Z"
    },
    "papermill": {
     "duration": 0.021848,
     "end_time": "2022-08-18T13:21:29.869097",
     "exception": false,
     "start_time": "2022-08-18T13:21:29.847249",
     "status": "completed"
    },
    "tags": []
   },
   "outputs": [
    {
     "data": {
      "text/plain": [
       "13675.66060707591"
      ]
     },
     "execution_count": 9,
     "metadata": {},
     "output_type": "execute_result"
    }
   ],
   "source": [
    "metrics.mean_absolute_error(y_true = 10**y_test, y_pred = 10**y_pred)"
   ]
  },
  {
   "cell_type": "code",
   "execution_count": 10,
   "id": "3d426e44",
   "metadata": {
    "execution": {
     "iopub.execute_input": "2022-08-18T13:21:29.889549Z",
     "iopub.status.busy": "2022-08-18T13:21:29.889153Z",
     "iopub.status.idle": "2022-08-18T13:21:29.900521Z",
     "shell.execute_reply": "2022-08-18T13:21:29.899319Z"
    },
    "papermill": {
     "duration": 0.024081,
     "end_time": "2022-08-18T13:21:29.902639",
     "exception": false,
     "start_time": "2022-08-18T13:21:29.878558",
     "status": "completed"
    },
    "tags": []
   },
   "outputs": [
    {
     "data": {
      "text/plain": [
       "2534.0972006646116"
      ]
     },
     "execution_count": 10,
     "metadata": {},
     "output_type": "execute_result"
    }
   ],
   "source": [
    "test_v_pred = pd.DataFrame({'Actuals': 10**y_test, 'Predicted': 10**y_pred})\n",
    "test_v_pred['Diff'] = test_v_pred['Actuals'] - test_v_pred['Predicted']\n",
    "test_v_pred['Diff_Squared'] = (test_v_pred['Diff'])**2\n",
    "(test_v_pred['Diff_Squared'].mean()/test_v_pred.shape[0])**0.5\n"
   ]
  },
  {
   "cell_type": "code",
   "execution_count": 11,
   "id": "88c68ffd",
   "metadata": {
    "execution": {
     "iopub.execute_input": "2022-08-18T13:21:29.923588Z",
     "iopub.status.busy": "2022-08-18T13:21:29.922966Z",
     "iopub.status.idle": "2022-08-18T13:21:30.230413Z",
     "shell.execute_reply": "2022-08-18T13:21:30.229284Z"
    },
    "papermill": {
     "duration": 0.320941,
     "end_time": "2022-08-18T13:21:30.233144",
     "exception": false,
     "start_time": "2022-08-18T13:21:29.912203",
     "status": "completed"
    },
    "tags": []
   },
   "outputs": [
    {
     "name": "stderr",
     "output_type": "stream",
     "text": [
      "/opt/conda/lib/python3.7/site-packages/seaborn/_decorators.py:43: FutureWarning: Pass the following variables as keyword args: x, y. From version 0.12, the only valid positional argument will be `data`, and passing other arguments without an explicit keyword will result in an error or misinterpretation.\n",
      "  FutureWarning\n"
     ]
    },
    {
     "data": {
      "text/plain": [
       "<AxesSubplot:xlabel='Rent_transform'>"
      ]
     },
     "execution_count": 11,
     "metadata": {},
     "output_type": "execute_result"
    },
    {
     "data": {
      "image/png": "[encoded data removed]",
      "text/plain": [
       "<Figure size 432x288 with 1 Axes>"
      ]
     },
     "metadata": {
      "needs_background": "light"
     },
     "output_type": "display_data"
    }
   ],
   "source": [
    "sns.scatterplot(y_test, my_model.predict(X_test))"
   ]
  },
  {
   "cell_type": "code",
   "execution_count": 12,
   "id": "5c04d5d2",
   "metadata": {
    "execution": {
     "iopub.execute_input": "2022-08-18T13:21:30.255608Z",
     "iopub.status.busy": "2022-08-18T13:21:30.255219Z",
     "iopub.status.idle": "2022-08-18T13:21:30.268849Z",
     "shell.execute_reply": "2022-08-18T13:21:30.267983Z"
    },
    "papermill": {
     "duration": 0.027553,
     "end_time": "2022-08-18T13:21:30.271024",
     "exception": false,
     "start_time": "2022-08-18T13:21:30.243471",
     "status": "completed"
    },
    "tags": []
   },
   "outputs": [
    {
     "data": {
      "text/html": [
       "<style>#sk-7bddd1f7-c146-42fd-8fde-cef73531f9a9 {color: black;background-color: white;}#sk-7bddd1f7-c146-42fd-8fde-cef73531f9a9 pre{padding: 0;}#sk-7bddd1f7-c146-42fd-8fde-cef73531f9a9 div.sk-toggleable {background-color: white;}#sk-7bddd1f7-c146-42fd-8fde-cef73531f9a9 label.sk-toggleable__label {cursor: pointer;display: block;width: 100%;margin-bottom: 0;padding: 0.3em;box-sizing: border-box;text-align: center;}#sk-7bddd1f7-c146-42fd-8fde-cef73531f9a9 label.sk-toggleable__label-arrow:before {content: \"▸\";float: left;margin-right: 0.25em;color: #696969;}#sk-7bddd1f7-c146-42fd-8fde-cef73531f9a9 label.sk-toggleable__label-arrow:hover:before {color: black;}#sk-7bddd1f7-c146-42fd-8fde-cef73531f9a9 div.sk-estimator:hover label.sk-toggleable__label-arrow:before {color: black;}#sk-7bddd1f7-c146-42fd-8fde-cef73531f9a9 div.sk-toggleable__content {max-height: 0;max-width: 0;overflow: hidden;text-align: left;background-color: #f0f8ff;}#sk-7bddd1f7-c146-42fd-8fde-cef73531f9a9 div.sk-toggleable__content pre {margin: 0.2em;color: black;border-radius: 0.25em;background-color: #f0f8ff;}#sk-7bddd1f7-c146-42fd-8fde-cef73531f9a9 input.sk-toggleable__control:checked~div.sk-toggleable__content {max-height: 200px;max-width: 100%;overflow: auto;}#sk-7bddd1f7-c146-42fd-8fde-cef73531f9a9 input.sk-toggleable__control:checked~label.sk-toggleable__label-arrow:before {content: \"▾\";}#sk-7bddd1f7-c146-42fd-8fde-cef73531f9a9 div.sk-estimator input.sk-toggleable__control:checked~label.sk-toggleable__label {background-color: #d4ebff;}#sk-7bddd1f7-c146-42fd-8fde-cef73531f9a9 div.sk-label input.sk-toggleable__control:checked~label.sk-toggleable__label {background-color: #d4ebff;}#sk-7bddd1f7-c146-42fd-8fde-cef73531f9a9 input.sk-hidden--visually {border: 0;clip: rect(1px 1px 1px 1px);clip: rect(1px, 1px, 1px, 1px);height: 1px;margin: -1px;overflow: hidden;padding: 0;position: absolute;width: 1px;}#sk-7bddd1f7-c146-42fd-8fde-cef73531f9a9 div.sk-estimator {font-family: monospace;background-color: #f0f8ff;border: 1px dotted black;border-radius: 0.25em;box-sizing: border-box;margin-bottom: 0.5em;}#sk-7bddd1f7-c146-42fd-8fde-cef73531f9a9 div.sk-estimator:hover {background-color: #d4ebff;}#sk-7bddd1f7-c146-42fd-8fde-cef73531f9a9 div.sk-parallel-item::after {content: \"\";width: 100%;border-bottom: 1px solid gray;flex-grow: 1;}#sk-7bddd1f7-c146-42fd-8fde-cef73531f9a9 div.sk-label:hover label.sk-toggleable__label {background-color: #d4ebff;}#sk-7bddd1f7-c146-42fd-8fde-cef73531f9a9 div.sk-serial::before {content: \"\";position: absolute;border-left: 1px solid gray;box-sizing: border-box;top: 2em;bottom: 0;left: 50%;}#sk-7bddd1f7-c146-42fd-8fde-cef73531f9a9 div.sk-serial {display: flex;flex-direction: column;align-items: center;background-color: white;padding-right: 0.2em;padding-left: 0.2em;}#sk-7bddd1f7-c146-42fd-8fde-cef73531f9a9 div.sk-item {z-index: 1;}#sk-7bddd1f7-c146-42fd-8fde-cef73531f9a9 div.sk-parallel {display: flex;align-items: stretch;justify-content: center;background-color: white;}#sk-7bddd1f7-c146-42fd-8fde-cef73531f9a9 div.sk-parallel::before {content: \"\";position: absolute;border-left: 1px solid gray;box-sizing: border-box;top: 2em;bottom: 0;left: 50%;}#sk-7bddd1f7-c146-42fd-8fde-cef73531f9a9 div.sk-parallel-item {display: flex;flex-direction: column;position: relative;background-color: white;}#sk-7bddd1f7-c146-42fd-8fde-cef73531f9a9 div.sk-parallel-item:first-child::after {align-self: flex-end;width: 50%;}#sk-7bddd1f7-c146-42fd-8fde-cef73531f9a9 div.sk-parallel-item:last-child::after {align-self: flex-start;width: 50%;}#sk-7bddd1f7-c146-42fd-8fde-cef73531f9a9 div.sk-parallel-item:only-child::after {width: 0;}#sk-7bddd1f7-c146-42fd-8fde-cef73531f9a9 div.sk-dashed-wrapped {border: 1px dashed gray;margin: 0 0.4em 0.5em 0.4em;box-sizing: border-box;padding-bottom: 0.4em;background-color: white;position: relative;}#sk-7bddd1f7-c146-42fd-8fde-cef73531f9a9 div.sk-label label {font-family: monospace;font-weight: bold;background-color: white;display: inline-block;line-height: 1.2em;}#sk-7bddd1f7-c146-42fd-8fde-cef73531f9a9 div.sk-label-container {position: relative;z-index: 2;text-align: center;}#sk-7bddd1f7-c146-42fd-8fde-cef73531f9a9 div.sk-container {/* jupyter's `normalize.less` sets `[hidden] { display: none; }` but bootstrap.min.css set `[hidden] { display: none !important; }` so we also need the `!important` here to be able to override the default hidden behavior on the sphinx rendered scikit-learn.org. See: https://github.com/scikit-learn/scikit-learn/issues/21755 */display: inline-block !important;position: relative;}#sk-7bddd1f7-c146-42fd-8fde-cef73531f9a9 div.sk-text-repr-fallback {display: none;}</style><div id=\"sk-7bddd1f7-c146-42fd-8fde-cef73531f9a9\" class=\"sk-top-container\"><div class=\"sk-text-repr-fallback\"><pre>Pipeline(steps=[(&#x27;standardscaler&#x27;, StandardScaler()),\n",
       "                (&#x27;randomforestregressor&#x27;, RandomForestRegressor())])</pre><b>Please rerun this cell to show the HTML repr or trust the notebook.</b></div><div class=\"sk-container\" hidden><div class=\"sk-item sk-dashed-wrapped\"><div class=\"sk-label-container\"><div class=\"sk-label sk-toggleable\"><input class=\"sk-toggleable__control sk-hidden--visually\" id=\"d0e5c2e5-d954-4ba2-a781-129d82dc387e\" type=\"checkbox\" ><label for=\"d0e5c2e5-d954-4ba2-a781-129d82dc387e\" class=\"sk-toggleable__label sk-toggleable__label-arrow\">Pipeline</label><div class=\"sk-toggleable__content\"><pre>Pipeline(steps=[(&#x27;standardscaler&#x27;, StandardScaler()),\n",
       "                (&#x27;randomforestregressor&#x27;, RandomForestRegressor())])</pre></div></div></div><div class=\"sk-serial\"><div class=\"sk-item\"><div class=\"sk-estimator sk-toggleable\"><input class=\"sk-toggleable__control sk-hidden--visually\" id=\"804f197a-004d-4219-8db8-e5495d30344d\" type=\"checkbox\" ><label for=\"804f197a-004d-4219-8db8-e5495d30344d\" class=\"sk-toggleable__label sk-toggleable__label-arrow\">StandardScaler</label><div class=\"sk-toggleable__content\"><pre>StandardScaler()</pre></div></div></div><div class=\"sk-item\"><div class=\"sk-estimator sk-toggleable\"><input class=\"sk-toggleable__control sk-hidden--visually\" id=\"bac71b3f-d4dd-4f65-a612-877ccc3f0f4b\" type=\"checkbox\" ><label for=\"bac71b3f-d4dd-4f65-a612-877ccc3f0f4b\" class=\"sk-toggleable__label sk-toggleable__label-arrow\">RandomForestRegressor</label><div class=\"sk-toggleable__content\"><pre>RandomForestRegressor()</pre></div></div></div></div></div></div></div>"
      ],
      "text/plain": [
       "Pipeline(steps=[('standardscaler', StandardScaler()),\n",
       "                ('randomforestregressor', RandomForestRegressor())])"
      ]
     },
     "execution_count": 12,
     "metadata": {},
     "output_type": "execute_result"
    }
   ],
   "source": [
    "from sklearn import set_config\n",
    "set_config(display='diagram')\n",
    "pipe"
   ]
  },
  {
   "cell_type": "code",
   "execution_count": 13,
   "id": "45dd4bd0",
   "metadata": {
    "execution": {
     "iopub.execute_input": "2022-08-18T13:21:30.295442Z",
     "iopub.status.busy": "2022-08-18T13:21:30.294415Z",
     "iopub.status.idle": "2022-08-18T13:21:30.326706Z",
     "shell.execute_reply": "2022-08-18T13:21:30.325528Z"
    },
    "papermill": {
     "duration": 0.047389,
     "end_time": "2022-08-18T13:21:30.329535",
     "exception": false,
     "start_time": "2022-08-18T13:21:30.282146",
     "status": "completed"
    },
    "tags": []
   },
   "outputs": [
    {
     "name": "stdout",
     "output_type": "stream",
     "text": [
      "78106.4129373483\n",
      "269312.69013947854\n"
     ]
    },
    {
     "data": {
      "text/html": [
       "<div>\n",
       "<style scoped>\n",
       "    .dataframe tbody tr th:only-of-type {\n",
       "        vertical-align: middle;\n",
       "    }\n",
       "\n",
       "    .dataframe tbody tr th {\n",
       "        vertical-align: top;\n",
       "    }\n",
       "\n",
       "    .dataframe thead th {\n",
       "        text-align: right;\n",
       "    }\n",
       "</style>\n",
       "<table border=\"1\" class=\"dataframe\">\n",
       "  <thead>\n",
       "    <tr style=\"text-align: right;\">\n",
       "      <th></th>\n",
       "      <th>Posted On</th>\n",
       "      <th>BHK</th>\n",
       "      <th>Rent</th>\n",
       "      <th>Size</th>\n",
       "      <th>Floor</th>\n",
       "      <th>Area Type</th>\n",
       "      <th>Area Locality</th>\n",
       "      <th>City</th>\n",
       "      <th>Furnishing Status</th>\n",
       "      <th>Tenant Preferred</th>\n",
       "      <th>Bathroom</th>\n",
       "      <th>Point of Contact</th>\n",
       "      <th>posted_on_month</th>\n",
       "      <th>posted_on_weekday</th>\n",
       "      <th>posted_on_dayofyear</th>\n",
       "      <th>apartment_floor</th>\n",
       "      <th>total_floors</th>\n",
       "      <th>pct_up_building</th>\n",
       "      <th>Rent_transform</th>\n",
       "    </tr>\n",
       "  </thead>\n",
       "  <tbody>\n",
       "    <tr>\n",
       "      <th>726</th>\n",
       "      <td>2022-06-20</td>\n",
       "      <td>4</td>\n",
       "      <td>600000</td>\n",
       "      <td>2500</td>\n",
       "      <td>12 out of 13</td>\n",
       "      <td>Carpet Area</td>\n",
       "      <td>Mount Marry, Bandra West</td>\n",
       "      <td>Mumbai</td>\n",
       "      <td>Semi-Furnished</td>\n",
       "      <td>Bachelors/Family</td>\n",
       "      <td>4</td>\n",
       "      <td>Contact Agent</td>\n",
       "      <td>6</td>\n",
       "      <td>0</td>\n",
       "      <td>171</td>\n",
       "      <td>12</td>\n",
       "      <td>13</td>\n",
       "      <td>0.92308</td>\n",
       "      <td>5.77815</td>\n",
       "    </tr>\n",
       "    <tr>\n",
       "      <th>792</th>\n",
       "      <td>2022-06-13</td>\n",
       "      <td>5</td>\n",
       "      <td>600000</td>\n",
       "      <td>3200</td>\n",
       "      <td>10 out of 16</td>\n",
       "      <td>Carpet Area</td>\n",
       "      <td>Bandra East</td>\n",
       "      <td>Mumbai</td>\n",
       "      <td>Semi-Furnished</td>\n",
       "      <td>Bachelors/Family</td>\n",
       "      <td>5</td>\n",
       "      <td>Contact Agent</td>\n",
       "      <td>6</td>\n",
       "      <td>0</td>\n",
       "      <td>164</td>\n",
       "      <td>10</td>\n",
       "      <td>16</td>\n",
       "      <td>0.62500</td>\n",
       "      <td>5.77815</td>\n",
       "    </tr>\n",
       "    <tr>\n",
       "      <th>827</th>\n",
       "      <td>2022-05-18</td>\n",
       "      <td>4</td>\n",
       "      <td>1000000</td>\n",
       "      <td>3064</td>\n",
       "      <td>18 out of 45</td>\n",
       "      <td>Carpet Area</td>\n",
       "      <td>Raheja Artesia, Worli</td>\n",
       "      <td>Mumbai</td>\n",
       "      <td>Semi-Furnished</td>\n",
       "      <td>Family</td>\n",
       "      <td>4</td>\n",
       "      <td>Contact Agent</td>\n",
       "      <td>5</td>\n",
       "      <td>2</td>\n",
       "      <td>138</td>\n",
       "      <td>18</td>\n",
       "      <td>45</td>\n",
       "      <td>0.40000</td>\n",
       "      <td>6.00000</td>\n",
       "    </tr>\n",
       "    <tr>\n",
       "      <th>839</th>\n",
       "      <td>2022-05-19</td>\n",
       "      <td>5</td>\n",
       "      <td>450000</td>\n",
       "      <td>3400</td>\n",
       "      <td>2 out of 5</td>\n",
       "      <td>Carpet Area</td>\n",
       "      <td>Bandra West</td>\n",
       "      <td>Mumbai</td>\n",
       "      <td>Semi-Furnished</td>\n",
       "      <td>Bachelors/Family</td>\n",
       "      <td>5</td>\n",
       "      <td>Contact Agent</td>\n",
       "      <td>5</td>\n",
       "      <td>3</td>\n",
       "      <td>139</td>\n",
       "      <td>2</td>\n",
       "      <td>5</td>\n",
       "      <td>0.40000</td>\n",
       "      <td>5.65321</td>\n",
       "    </tr>\n",
       "    <tr>\n",
       "      <th>1001</th>\n",
       "      <td>2022-06-01</td>\n",
       "      <td>4</td>\n",
       "      <td>1200000</td>\n",
       "      <td>5000</td>\n",
       "      <td>4 out of 15</td>\n",
       "      <td>Carpet Area</td>\n",
       "      <td>Juhu</td>\n",
       "      <td>Mumbai</td>\n",
       "      <td>Semi-Furnished</td>\n",
       "      <td>Bachelors/Family</td>\n",
       "      <td>4</td>\n",
       "      <td>Contact Agent</td>\n",
       "      <td>6</td>\n",
       "      <td>2</td>\n",
       "      <td>152</td>\n",
       "      <td>4</td>\n",
       "      <td>15</td>\n",
       "      <td>0.26667</td>\n",
       "      <td>6.07918</td>\n",
       "    </tr>\n",
       "    <tr>\n",
       "      <th>1023</th>\n",
       "      <td>2022-07-09</td>\n",
       "      <td>5</td>\n",
       "      <td>500000</td>\n",
       "      <td>3900</td>\n",
       "      <td>4 out of 6</td>\n",
       "      <td>Carpet Area</td>\n",
       "      <td>Altamount Road</td>\n",
       "      <td>Mumbai</td>\n",
       "      <td>Furnished</td>\n",
       "      <td>Bachelors/Family</td>\n",
       "      <td>5</td>\n",
       "      <td>Contact Agent</td>\n",
       "      <td>7</td>\n",
       "      <td>5</td>\n",
       "      <td>190</td>\n",
       "      <td>4</td>\n",
       "      <td>6</td>\n",
       "      <td>0.66667</td>\n",
       "      <td>5.69897</td>\n",
       "    </tr>\n",
       "    <tr>\n",
       "      <th>1319</th>\n",
       "      <td>2022-05-31</td>\n",
       "      <td>5</td>\n",
       "      <td>650000</td>\n",
       "      <td>3000</td>\n",
       "      <td>8 out of 10</td>\n",
       "      <td>Carpet Area</td>\n",
       "      <td>Khar West</td>\n",
       "      <td>Mumbai</td>\n",
       "      <td>Semi-Furnished</td>\n",
       "      <td>Bachelors/Family</td>\n",
       "      <td>5</td>\n",
       "      <td>Contact Agent</td>\n",
       "      <td>5</td>\n",
       "      <td>1</td>\n",
       "      <td>151</td>\n",
       "      <td>8</td>\n",
       "      <td>10</td>\n",
       "      <td>0.80000</td>\n",
       "      <td>5.81291</td>\n",
       "    </tr>\n",
       "    <tr>\n",
       "      <th>1329</th>\n",
       "      <td>2022-06-23</td>\n",
       "      <td>4</td>\n",
       "      <td>850000</td>\n",
       "      <td>3200</td>\n",
       "      <td>2 out of 4</td>\n",
       "      <td>Carpet Area</td>\n",
       "      <td>Breach Candy</td>\n",
       "      <td>Mumbai</td>\n",
       "      <td>Furnished</td>\n",
       "      <td>Bachelors/Family</td>\n",
       "      <td>4</td>\n",
       "      <td>Contact Agent</td>\n",
       "      <td>6</td>\n",
       "      <td>3</td>\n",
       "      <td>174</td>\n",
       "      <td>2</td>\n",
       "      <td>4</td>\n",
       "      <td>0.50000</td>\n",
       "      <td>5.92942</td>\n",
       "    </tr>\n",
       "    <tr>\n",
       "      <th>1384</th>\n",
       "      <td>2022-05-27</td>\n",
       "      <td>5</td>\n",
       "      <td>600000</td>\n",
       "      <td>4500</td>\n",
       "      <td>7 out of 20</td>\n",
       "      <td>Carpet Area</td>\n",
       "      <td>Bandra West</td>\n",
       "      <td>Mumbai</td>\n",
       "      <td>Furnished</td>\n",
       "      <td>Bachelors</td>\n",
       "      <td>5</td>\n",
       "      <td>Contact Agent</td>\n",
       "      <td>5</td>\n",
       "      <td>4</td>\n",
       "      <td>147</td>\n",
       "      <td>7</td>\n",
       "      <td>20</td>\n",
       "      <td>0.35000</td>\n",
       "      <td>5.77815</td>\n",
       "    </tr>\n",
       "    <tr>\n",
       "      <th>1459</th>\n",
       "      <td>2022-06-27</td>\n",
       "      <td>4</td>\n",
       "      <td>700000</td>\n",
       "      <td>3200</td>\n",
       "      <td>24 out of 24</td>\n",
       "      <td>Carpet Area</td>\n",
       "      <td>Lady Ratan Tower, Worli</td>\n",
       "      <td>Mumbai</td>\n",
       "      <td>Furnished</td>\n",
       "      <td>Bachelors/Family</td>\n",
       "      <td>4</td>\n",
       "      <td>Contact Agent</td>\n",
       "      <td>6</td>\n",
       "      <td>0</td>\n",
       "      <td>178</td>\n",
       "      <td>24</td>\n",
       "      <td>24</td>\n",
       "      <td>1.00000</td>\n",
       "      <td>5.84510</td>\n",
       "    </tr>\n",
       "    <tr>\n",
       "      <th>1484</th>\n",
       "      <td>2022-07-07</td>\n",
       "      <td>4</td>\n",
       "      <td>680000</td>\n",
       "      <td>1962</td>\n",
       "      <td>18 out of 20</td>\n",
       "      <td>Carpet Area</td>\n",
       "      <td>Khar West</td>\n",
       "      <td>Mumbai</td>\n",
       "      <td>Semi-Furnished</td>\n",
       "      <td>Bachelors/Family</td>\n",
       "      <td>5</td>\n",
       "      <td>Contact Agent</td>\n",
       "      <td>7</td>\n",
       "      <td>3</td>\n",
       "      <td>188</td>\n",
       "      <td>18</td>\n",
       "      <td>20</td>\n",
       "      <td>0.90000</td>\n",
       "      <td>5.83251</td>\n",
       "    </tr>\n",
       "    <tr>\n",
       "      <th>1837</th>\n",
       "      <td>2022-06-08</td>\n",
       "      <td>3</td>\n",
       "      <td>3500000</td>\n",
       "      <td>2500</td>\n",
       "      <td>4 out of 4</td>\n",
       "      <td>Carpet Area</td>\n",
       "      <td>Marathahalli</td>\n",
       "      <td>Bangalore</td>\n",
       "      <td>Semi-Furnished</td>\n",
       "      <td>Bachelors</td>\n",
       "      <td>3</td>\n",
       "      <td>Contact Agent</td>\n",
       "      <td>6</td>\n",
       "      <td>2</td>\n",
       "      <td>159</td>\n",
       "      <td>4</td>\n",
       "      <td>4</td>\n",
       "      <td>1.00000</td>\n",
       "      <td>6.54407</td>\n",
       "    </tr>\n",
       "    <tr>\n",
       "      <th>2750</th>\n",
       "      <td>2022-06-11</td>\n",
       "      <td>4</td>\n",
       "      <td>530000</td>\n",
       "      <td>4000</td>\n",
       "      <td>3 out of 4</td>\n",
       "      <td>Carpet Area</td>\n",
       "      <td>Anand Niketan</td>\n",
       "      <td>Delhi</td>\n",
       "      <td>Semi-Furnished</td>\n",
       "      <td>Bachelors/Family</td>\n",
       "      <td>5</td>\n",
       "      <td>Contact Agent</td>\n",
       "      <td>6</td>\n",
       "      <td>5</td>\n",
       "      <td>162</td>\n",
       "      <td>3</td>\n",
       "      <td>4</td>\n",
       "      <td>0.75000</td>\n",
       "      <td>5.72428</td>\n",
       "    </tr>\n",
       "    <tr>\n",
       "      <th>3656</th>\n",
       "      <td>2022-07-06</td>\n",
       "      <td>2</td>\n",
       "      <td>600000</td>\n",
       "      <td>950</td>\n",
       "      <td>1 out of 1</td>\n",
       "      <td>Carpet Area</td>\n",
       "      <td>Vettuvankeni</td>\n",
       "      <td>Chennai</td>\n",
       "      <td>Unfurnished</td>\n",
       "      <td>Bachelors</td>\n",
       "      <td>2</td>\n",
       "      <td>Contact Owner</td>\n",
       "      <td>7</td>\n",
       "      <td>2</td>\n",
       "      <td>187</td>\n",
       "      <td>1</td>\n",
       "      <td>1</td>\n",
       "      <td>1.00000</td>\n",
       "      <td>5.77815</td>\n",
       "    </tr>\n",
       "  </tbody>\n",
       "</table>\n",
       "</div>"
      ],
      "text/plain": [
       "      Posted On  BHK     Rent  Size         Floor    Area Type  \\\n",
       "726  2022-06-20    4   600000  2500  12 out of 13  Carpet Area   \n",
       "792  2022-06-13    5   600000  3200  10 out of 16  Carpet Area   \n",
       "827  2022-05-18    4  1000000  3064  18 out of 45  Carpet Area   \n",
       "839  2022-05-19    5   450000  3400    2 out of 5  Carpet Area   \n",
       "1001 2022-06-01    4  1200000  5000   4 out of 15  Carpet Area   \n",
       "1023 2022-07-09    5   500000  3900    4 out of 6  Carpet Area   \n",
       "1319 2022-05-31    5   650000  3000   8 out of 10  Carpet Area   \n",
       "1329 2022-06-23    4   850000  3200    2 out of 4  Carpet Area   \n",
       "1384 2022-05-27    5   600000  4500   7 out of 20  Carpet Area   \n",
       "1459 2022-06-27    4   700000  3200  24 out of 24  Carpet Area   \n",
       "1484 2022-07-07    4   680000  1962  18 out of 20  Carpet Area   \n",
       "1837 2022-06-08    3  3500000  2500    4 out of 4  Carpet Area   \n",
       "2750 2022-06-11    4   530000  4000    3 out of 4  Carpet Area   \n",
       "3656 2022-07-06    2   600000   950    1 out of 1  Carpet Area   \n",
       "\n",
       "                 Area Locality       City Furnishing Status  Tenant Preferred  \\\n",
       "726   Mount Marry, Bandra West     Mumbai    Semi-Furnished  Bachelors/Family   \n",
       "792                Bandra East     Mumbai    Semi-Furnished  Bachelors/Family   \n",
       "827      Raheja Artesia, Worli     Mumbai    Semi-Furnished            Family   \n",
       "839                Bandra West     Mumbai    Semi-Furnished  Bachelors/Family   \n",
       "1001                      Juhu     Mumbai    Semi-Furnished  Bachelors/Family   \n",
       "1023            Altamount Road     Mumbai         Furnished  Bachelors/Family   \n",
       "1319                 Khar West     Mumbai    Semi-Furnished  Bachelors/Family   \n",
       "1329              Breach Candy     Mumbai         Furnished  Bachelors/Family   \n",
       "1384               Bandra West     Mumbai         Furnished         Bachelors   \n",
       "1459   Lady Ratan Tower, Worli     Mumbai         Furnished  Bachelors/Family   \n",
       "1484                 Khar West     Mumbai    Semi-Furnished  Bachelors/Family   \n",
       "1837              Marathahalli  Bangalore    Semi-Furnished         Bachelors   \n",
       "2750             Anand Niketan      Delhi    Semi-Furnished  Bachelors/Family   \n",
       "3656              Vettuvankeni    Chennai       Unfurnished         Bachelors   \n",
       "\n",
       "      Bathroom Point of Contact posted_on_month posted_on_weekday  \\\n",
       "726          4    Contact Agent               6                 0   \n",
       "792          5    Contact Agent               6                 0   \n",
       "827          4    Contact Agent               5                 2   \n",
       "839          5    Contact Agent               5                 3   \n",
       "1001         4    Contact Agent               6                 2   \n",
       "1023         5    Contact Agent               7                 5   \n",
       "1319         5    Contact Agent               5                 1   \n",
       "1329         4    Contact Agent               6                 3   \n",
       "1384         5    Contact Agent               5                 4   \n",
       "1459         4    Contact Agent               6                 0   \n",
       "1484         5    Contact Agent               7                 3   \n",
       "1837         3    Contact Agent               6                 2   \n",
       "2750         5    Contact Agent               6                 5   \n",
       "3656         2    Contact Owner               7                 2   \n",
       "\n",
       "      posted_on_dayofyear  apartment_floor  total_floors  pct_up_building  \\\n",
       "726                   171               12            13          0.92308   \n",
       "792                   164               10            16          0.62500   \n",
       "827                   138               18            45          0.40000   \n",
       "839                   139                2             5          0.40000   \n",
       "1001                  152                4            15          0.26667   \n",
       "1023                  190                4             6          0.66667   \n",
       "1319                  151                8            10          0.80000   \n",
       "1329                  174                2             4          0.50000   \n",
       "1384                  147                7            20          0.35000   \n",
       "1459                  178               24            24          1.00000   \n",
       "1484                  188               18            20          0.90000   \n",
       "1837                  159                4             4          1.00000   \n",
       "2750                  162                3             4          0.75000   \n",
       "3656                  187                1             1          1.00000   \n",
       "\n",
       "      Rent_transform  \n",
       "726          5.77815  \n",
       "792          5.77815  \n",
       "827          6.00000  \n",
       "839          5.65321  \n",
       "1001         6.07918  \n",
       "1023         5.69897  \n",
       "1319         5.81291  \n",
       "1329         5.92942  \n",
       "1384         5.77815  \n",
       "1459         5.84510  \n",
       "1484         5.83251  \n",
       "1837         6.54407  \n",
       "2750         5.72428  \n",
       "3656         5.77815  "
      ]
     },
     "execution_count": 13,
     "metadata": {},
     "output_type": "execute_result"
    }
   ],
   "source": [
    "rent_data[\"Rent\"].describe()\n",
    "\n",
    "print(rent_data[\"Rent\"].std())\n",
    "print(rent_data[\"Rent\"].mean() + rent_data[\"Rent\"].std() * 3)\n",
    "rent_data[rent_data[\"Rent\"] > rent_data[\"Rent\"].mean() + rent_data[\"Rent\"].std() * 5]"
   ]
  },
  {
   "cell_type": "code",
   "execution_count": null,
   "id": "de5514d5",
   "metadata": {
    "execution": {
     "iopub.execute_input": "2022-08-18T01:18:42.471349Z",
     "iopub.status.busy": "2022-08-18T01:18:42.470821Z",
     "iopub.status.idle": "2022-08-18T01:18:42.487450Z",
     "shell.execute_reply": "2022-08-18T01:18:42.486390Z",
     "shell.execute_reply.started": "2022-08-18T01:18:42.471309Z"
    },
    "papermill": {
     "duration": 0.010932,
     "end_time": "2022-08-18T13:21:30.352288",
     "exception": false,
     "start_time": "2022-08-18T13:21:30.341356",
     "status": "completed"
    },
    "tags": []
   },
   "outputs": [],
   "source": [
    "\n",
    "\n"
   ]
  },
  {
   "cell_type": "code",
   "execution_count": 14,
   "id": "51c74714",
   "metadata": {
    "execution": {
     "iopub.execute_input": "2022-08-18T13:21:30.377028Z",
     "iopub.status.busy": "2022-08-18T13:21:30.375949Z",
     "iopub.status.idle": "2022-08-18T13:21:30.552392Z",
     "shell.execute_reply": "2022-08-18T13:21:30.551238Z"
    },
    "papermill": {
     "duration": 0.192091,
     "end_time": "2022-08-18T13:21:30.555596",
     "exception": false,
     "start_time": "2022-08-18T13:21:30.363505",
     "status": "completed"
    },
    "tags": []
   },
   "outputs": [
    {
     "data": {
      "text/plain": [
       "<AxesSubplot:xlabel='Rent_transform'>"
      ]
     },
     "execution_count": 14,
     "metadata": {},
     "output_type": "execute_result"
    },
    {
     "data": {
      "image/png": "[encoded data removed]",
      "text/plain": [
       "<Figure size 432x288 with 1 Axes>"
      ]
     },
     "metadata": {
      "needs_background": "light"
     },
     "output_type": "display_data"
    }
   ],
   "source": [
    "sns.boxplot(data=rent_data, x=\"Rent_transform\")"
   ]
  },
  {
   "cell_type": "code",
   "execution_count": 15,
   "id": "4e5c1ece",
   "metadata": {
    "execution": {
     "iopub.execute_input": "2022-08-18T13:21:30.581099Z",
     "iopub.status.busy": "2022-08-18T13:21:30.579955Z",
     "iopub.status.idle": "2022-08-18T13:21:30.951365Z",
     "shell.execute_reply": "2022-08-18T13:21:30.950038Z"
    },
    "papermill": {
     "duration": 0.386892,
     "end_time": "2022-08-18T13:21:30.954104",
     "exception": false,
     "start_time": "2022-08-18T13:21:30.567212",
     "status": "completed"
    },
    "tags": []
   },
   "outputs": [
    {
     "data": {
      "text/plain": [
       "<AxesSubplot:xlabel='posted_on_month', ylabel='Rent_transform'>"
      ]
     },
     "execution_count": 15,
     "metadata": {},
     "output_type": "execute_result"
    },
    {
     "data": {
      "image/png": "[encoded data removed]",
      "text/plain": [
       "<Figure size 432x288 with 1 Axes>"
      ]
     },
     "metadata": {
      "needs_background": "light"
     },
     "output_type": "display_data"
    }
   ],
   "source": [
    "\n",
    "sns.lineplot(x=\"posted_on_month\", y=\"Rent_transform\", data = rent_data)"
   ]
  },
  {
   "cell_type": "code",
   "execution_count": 16,
   "id": "012b0b0d",
   "metadata": {
    "execution": {
     "iopub.execute_input": "2022-08-18T13:21:30.980583Z",
     "iopub.status.busy": "2022-08-18T13:21:30.979849Z",
     "iopub.status.idle": "2022-08-18T13:21:31.216045Z",
     "shell.execute_reply": "2022-08-18T13:21:31.215174Z"
    },
    "papermill": {
     "duration": 0.251904,
     "end_time": "2022-08-18T13:21:31.218397",
     "exception": false,
     "start_time": "2022-08-18T13:21:30.966493",
     "status": "completed"
    },
    "tags": []
   },
   "outputs": [
    {
     "data": {
      "text/plain": [
       "<AxesSubplot:xlabel='pct_up_building', ylabel='Rent'>"
      ]
     },
     "execution_count": 16,
     "metadata": {},
     "output_type": "execute_result"
    },
    {
     "data": {
      "image/png": "[encoded data removed]",
      "text/plain": [
       "<Figure size 432x288 with 1 Axes>"
      ]
     },
     "metadata": {
      "needs_background": "light"
     },
     "output_type": "display_data"
    }
   ],
   "source": [
    "sns.scatterplot(x=\"pct_up_building\", y=\"Rent\", data = rent_data, ci=None)"
   ]
  },
  {
   "cell_type": "code",
   "execution_count": 17,
   "id": "fcb0f487",
   "metadata": {
    "execution": {
     "iopub.execute_input": "2022-08-18T13:21:31.245651Z",
     "iopub.status.busy": "2022-08-18T13:21:31.244946Z",
     "iopub.status.idle": "2022-08-18T13:21:31.861613Z",
     "shell.execute_reply": "2022-08-18T13:21:31.860713Z"
    },
    "papermill": {
     "duration": 0.63313,
     "end_time": "2022-08-18T13:21:31.864038",
     "exception": false,
     "start_time": "2022-08-18T13:21:31.230908",
     "status": "completed"
    },
    "tags": []
   },
   "outputs": [
    {
     "data": {
      "text/plain": [
       "<AxesSubplot:xlabel='Size', ylabel='Rent_transform'>"
      ]
     },
     "execution_count": 17,
     "metadata": {},
     "output_type": "execute_result"
    },
    {
     "data": {
      "image/png": "[encoded data removed]",
      "text/plain": [
       "<Figure size 432x288 with 1 Axes>"
      ]
     },
     "metadata": {
      "needs_background": "light"
     },
     "output_type": "display_data"
    }
   ],
   "source": [
    "sns.regplot(x=\"Size\", y=\"Rent_transform\", data = rent_data)"
   ]
  },
  {
   "cell_type": "code",
   "execution_count": 18,
   "id": "304058bd",
   "metadata": {
    "execution": {
     "iopub.execute_input": "2022-08-18T13:21:31.892567Z",
     "iopub.status.busy": "2022-08-18T13:21:31.892182Z",
     "iopub.status.idle": "2022-08-18T13:21:32.619299Z",
     "shell.execute_reply": "2022-08-18T13:21:32.618111Z"
    },
    "papermill": {
     "duration": 0.744265,
     "end_time": "2022-08-18T13:21:32.622170",
     "exception": false,
     "start_time": "2022-08-18T13:21:31.877905",
     "status": "completed"
    },
    "tags": []
   },
   "outputs": [
    {
     "data": {
      "text/plain": [
       "<seaborn.axisgrid.FacetGrid at 0x7fe48d90b650>"
      ]
     },
     "execution_count": 18,
     "metadata": {},
     "output_type": "execute_result"
    },
    {
     "data": {
      "image/png": "[encoded data removed]",
      "text/plain": [
       "<Figure size 648x216 with 3 Axes>"
      ]
     },
     "metadata": {
      "needs_background": "light"
     },
     "output_type": "display_data"
    }
   ],
   "source": [
    "g = sns.FacetGrid(rent_data, col=\"Point of Contact\")\n",
    "g.map(sns.histplot, \"Rent_transform\")"
   ]
  },
  {
   "cell_type": "code",
   "execution_count": 19,
   "id": "7e7b1072",
   "metadata": {
    "execution": {
     "iopub.execute_input": "2022-08-18T13:21:32.651141Z",
     "iopub.status.busy": "2022-08-18T13:21:32.650281Z",
     "iopub.status.idle": "2022-08-18T13:21:32.656759Z",
     "shell.execute_reply": "2022-08-18T13:21:32.655696Z"
    },
    "papermill": {
     "duration": 0.023251,
     "end_time": "2022-08-18T13:21:32.658989",
     "exception": false,
     "start_time": "2022-08-18T13:21:32.635738",
     "status": "completed"
    },
    "tags": []
   },
   "outputs": [],
   "source": [
    "#TODO:\n",
    "# 3) Figure out whether Point of Contact is interesting or not\n",
    "# 5) "
   ]
  },
  {
   "cell_type": "code",
   "execution_count": 20,
   "id": "de2477e9",
   "metadata": {
    "execution": {
     "iopub.execute_input": "2022-08-18T13:21:32.687558Z",
     "iopub.status.busy": "2022-08-18T13:21:32.687129Z",
     "iopub.status.idle": "2022-08-18T13:21:32.706550Z",
     "shell.execute_reply": "2022-08-18T13:21:32.705676Z"
    },
    "papermill": {
     "duration": 0.036148,
     "end_time": "2022-08-18T13:21:32.708696",
     "exception": false,
     "start_time": "2022-08-18T13:21:32.672548",
     "status": "completed"
    },
    "tags": []
   },
   "outputs": [
    {
     "data": {
      "text/html": [
       "<div>\n",
       "<style scoped>\n",
       "    .dataframe tbody tr th:only-of-type {\n",
       "        vertical-align: middle;\n",
       "    }\n",
       "\n",
       "    .dataframe tbody tr th {\n",
       "        vertical-align: top;\n",
       "    }\n",
       "\n",
       "    .dataframe thead tr th {\n",
       "        text-align: left;\n",
       "    }\n",
       "\n",
       "    .dataframe thead tr:last-of-type th {\n",
       "        text-align: right;\n",
       "    }\n",
       "</style>\n",
       "<table border=\"1\" class=\"dataframe\">\n",
       "  <thead>\n",
       "    <tr>\n",
       "      <th></th>\n",
       "      <th colspan=\"4\" halign=\"left\">Rent</th>\n",
       "    </tr>\n",
       "    <tr>\n",
       "      <th></th>\n",
       "      <th>mean</th>\n",
       "      <th>min</th>\n",
       "      <th>max</th>\n",
       "      <th>count</th>\n",
       "    </tr>\n",
       "    <tr>\n",
       "      <th>BHK</th>\n",
       "      <th></th>\n",
       "      <th></th>\n",
       "      <th></th>\n",
       "      <th></th>\n",
       "    </tr>\n",
       "  </thead>\n",
       "  <tbody>\n",
       "    <tr>\n",
       "      <th>1</th>\n",
       "      <td>14139.22365</td>\n",
       "      <td>1500</td>\n",
       "      <td>200000</td>\n",
       "      <td>1167</td>\n",
       "    </tr>\n",
       "    <tr>\n",
       "      <th>2</th>\n",
       "      <td>22113.86402</td>\n",
       "      <td>2000</td>\n",
       "      <td>600000</td>\n",
       "      <td>2265</td>\n",
       "    </tr>\n",
       "    <tr>\n",
       "      <th>3</th>\n",
       "      <td>55863.06284</td>\n",
       "      <td>1200</td>\n",
       "      <td>3500000</td>\n",
       "      <td>1098</td>\n",
       "    </tr>\n",
       "    <tr>\n",
       "      <th>4</th>\n",
       "      <td>168864.55556</td>\n",
       "      <td>10000</td>\n",
       "      <td>1200000</td>\n",
       "      <td>189</td>\n",
       "    </tr>\n",
       "    <tr>\n",
       "      <th>5</th>\n",
       "      <td>297500.00000</td>\n",
       "      <td>22500</td>\n",
       "      <td>650000</td>\n",
       "      <td>19</td>\n",
       "    </tr>\n",
       "    <tr>\n",
       "      <th>6</th>\n",
       "      <td>73125.00000</td>\n",
       "      <td>20000</td>\n",
       "      <td>280000</td>\n",
       "      <td>8</td>\n",
       "    </tr>\n",
       "  </tbody>\n",
       "</table>\n",
       "</div>"
      ],
      "text/plain": [
       "            Rent                      \n",
       "            mean    min      max count\n",
       "BHK                                   \n",
       "1    14139.22365   1500   200000  1167\n",
       "2    22113.86402   2000   600000  2265\n",
       "3    55863.06284   1200  3500000  1098\n",
       "4   168864.55556  10000  1200000   189\n",
       "5   297500.00000  22500   650000    19\n",
       "6    73125.00000  20000   280000     8"
      ]
     },
     "execution_count": 20,
     "metadata": {},
     "output_type": "execute_result"
    }
   ],
   "source": [
    "rent_summary(\"BHK\")\n"
   ]
  },
  {
   "cell_type": "code",
   "execution_count": 21,
   "id": "c62cad01",
   "metadata": {
    "execution": {
     "iopub.execute_input": "2022-08-18T13:21:32.737990Z",
     "iopub.status.busy": "2022-08-18T13:21:32.737546Z",
     "iopub.status.idle": "2022-08-18T13:21:32.749235Z",
     "shell.execute_reply": "2022-08-18T13:21:32.748174Z"
    },
    "papermill": {
     "duration": 0.029092,
     "end_time": "2022-08-18T13:21:32.751560",
     "exception": false,
     "start_time": "2022-08-18T13:21:32.722468",
     "status": "completed"
    },
    "tags": []
   },
   "outputs": [
    {
     "data": {
      "text/plain": [
       "Ttest_indResult(statistic=9.881933271480133, pvalue=1.00017760303535e-22)"
      ]
     },
     "execution_count": 21,
     "metadata": {},
     "output_type": "execute_result"
    }
   ],
   "source": [
    "run_ttest_avg_rent(\"BHK\", 2, 1)"
   ]
  },
  {
   "cell_type": "code",
   "execution_count": 22,
   "id": "da7347b1",
   "metadata": {
    "execution": {
     "iopub.execute_input": "2022-08-18T13:21:32.781068Z",
     "iopub.status.busy": "2022-08-18T13:21:32.780355Z",
     "iopub.status.idle": "2022-08-18T13:21:32.794830Z",
     "shell.execute_reply": "2022-08-18T13:21:32.794012Z"
    },
    "papermill": {
     "duration": 0.031598,
     "end_time": "2022-08-18T13:21:32.796919",
     "exception": false,
     "start_time": "2022-08-18T13:21:32.765321",
     "status": "completed"
    },
    "tags": []
   },
   "outputs": [
    {
     "data": {
      "text/html": [
       "<div>\n",
       "<style scoped>\n",
       "    .dataframe tbody tr th:only-of-type {\n",
       "        vertical-align: middle;\n",
       "    }\n",
       "\n",
       "    .dataframe tbody tr th {\n",
       "        vertical-align: top;\n",
       "    }\n",
       "\n",
       "    .dataframe thead tr th {\n",
       "        text-align: left;\n",
       "    }\n",
       "\n",
       "    .dataframe thead tr:last-of-type th {\n",
       "        text-align: right;\n",
       "    }\n",
       "</style>\n",
       "<table border=\"1\" class=\"dataframe\">\n",
       "  <thead>\n",
       "    <tr>\n",
       "      <th></th>\n",
       "      <th colspan=\"4\" halign=\"left\">Rent</th>\n",
       "    </tr>\n",
       "    <tr>\n",
       "      <th></th>\n",
       "      <th>mean</th>\n",
       "      <th>min</th>\n",
       "      <th>max</th>\n",
       "      <th>count</th>\n",
       "    </tr>\n",
       "    <tr>\n",
       "      <th>Area Type</th>\n",
       "      <th></th>\n",
       "      <th></th>\n",
       "      <th></th>\n",
       "      <th></th>\n",
       "    </tr>\n",
       "  </thead>\n",
       "  <tbody>\n",
       "    <tr>\n",
       "      <th>Built Area</th>\n",
       "      <td>10500.00000</td>\n",
       "      <td>6000</td>\n",
       "      <td>15000</td>\n",
       "      <td>2</td>\n",
       "    </tr>\n",
       "    <tr>\n",
       "      <th>Carpet Area</th>\n",
       "      <td>52385.89730</td>\n",
       "      <td>1200</td>\n",
       "      <td>3500000</td>\n",
       "      <td>2298</td>\n",
       "    </tr>\n",
       "    <tr>\n",
       "      <th>Super Area</th>\n",
       "      <td>18673.39657</td>\n",
       "      <td>1500</td>\n",
       "      <td>350000</td>\n",
       "      <td>2446</td>\n",
       "    </tr>\n",
       "  </tbody>\n",
       "</table>\n",
       "</div>"
      ],
      "text/plain": [
       "                   Rent                     \n",
       "                   mean   min      max count\n",
       "Area Type                                   \n",
       "Built Area  10500.00000  6000    15000     2\n",
       "Carpet Area 52385.89730  1200  3500000  2298\n",
       "Super Area  18673.39657  1500   350000  2446"
      ]
     },
     "execution_count": 22,
     "metadata": {},
     "output_type": "execute_result"
    }
   ],
   "source": [
    "rent_summary(\"Area Type\")"
   ]
  },
  {
   "cell_type": "code",
   "execution_count": 23,
   "id": "9db763ba",
   "metadata": {
    "execution": {
     "iopub.execute_input": "2022-08-18T13:21:32.826795Z",
     "iopub.status.busy": "2022-08-18T13:21:32.826104Z",
     "iopub.status.idle": "2022-08-18T13:21:32.835796Z",
     "shell.execute_reply": "2022-08-18T13:21:32.835072Z"
    },
    "papermill": {
     "duration": 0.026887,
     "end_time": "2022-08-18T13:21:32.837782",
     "exception": false,
     "start_time": "2022-08-18T13:21:32.810895",
     "status": "completed"
    },
    "tags": []
   },
   "outputs": [
    {
     "data": {
      "text/plain": [
       "Ttest_indResult(statistic=15.210786596096431, pvalue=4.7262804171882595e-51)"
      ]
     },
     "execution_count": 23,
     "metadata": {},
     "output_type": "execute_result"
    }
   ],
   "source": [
    "run_ttest_avg_rent(\"Area Type\", \"Carpet Area\", \"Super Area\")"
   ]
  },
  {
   "cell_type": "code",
   "execution_count": 24,
   "id": "c31b6c93",
   "metadata": {
    "execution": {
     "iopub.execute_input": "2022-08-18T13:21:32.868331Z",
     "iopub.status.busy": "2022-08-18T13:21:32.867539Z",
     "iopub.status.idle": "2022-08-18T13:21:32.882250Z",
     "shell.execute_reply": "2022-08-18T13:21:32.881460Z"
    },
    "papermill": {
     "duration": 0.032444,
     "end_time": "2022-08-18T13:21:32.884233",
     "exception": false,
     "start_time": "2022-08-18T13:21:32.851789",
     "status": "completed"
    },
    "tags": []
   },
   "outputs": [
    {
     "data": {
      "text/html": [
       "<div>\n",
       "<style scoped>\n",
       "    .dataframe tbody tr th:only-of-type {\n",
       "        vertical-align: middle;\n",
       "    }\n",
       "\n",
       "    .dataframe tbody tr th {\n",
       "        vertical-align: top;\n",
       "    }\n",
       "\n",
       "    .dataframe thead tr th {\n",
       "        text-align: left;\n",
       "    }\n",
       "\n",
       "    .dataframe thead tr:last-of-type th {\n",
       "        text-align: right;\n",
       "    }\n",
       "</style>\n",
       "<table border=\"1\" class=\"dataframe\">\n",
       "  <thead>\n",
       "    <tr>\n",
       "      <th></th>\n",
       "      <th colspan=\"4\" halign=\"left\">Rent</th>\n",
       "    </tr>\n",
       "    <tr>\n",
       "      <th></th>\n",
       "      <th>mean</th>\n",
       "      <th>min</th>\n",
       "      <th>max</th>\n",
       "      <th>count</th>\n",
       "    </tr>\n",
       "    <tr>\n",
       "      <th>City</th>\n",
       "      <th></th>\n",
       "      <th></th>\n",
       "      <th></th>\n",
       "      <th></th>\n",
       "    </tr>\n",
       "  </thead>\n",
       "  <tbody>\n",
       "    <tr>\n",
       "      <th>Bangalore</th>\n",
       "      <td>24966.36569</td>\n",
       "      <td>3500</td>\n",
       "      <td>3500000</td>\n",
       "      <td>886</td>\n",
       "    </tr>\n",
       "    <tr>\n",
       "      <th>Chennai</th>\n",
       "      <td>21614.09203</td>\n",
       "      <td>3000</td>\n",
       "      <td>600000</td>\n",
       "      <td>891</td>\n",
       "    </tr>\n",
       "    <tr>\n",
       "      <th>Delhi</th>\n",
       "      <td>29461.98347</td>\n",
       "      <td>2000</td>\n",
       "      <td>530000</td>\n",
       "      <td>605</td>\n",
       "    </tr>\n",
       "    <tr>\n",
       "      <th>Hyderabad</th>\n",
       "      <td>20555.04839</td>\n",
       "      <td>1200</td>\n",
       "      <td>400000</td>\n",
       "      <td>868</td>\n",
       "    </tr>\n",
       "    <tr>\n",
       "      <th>Kolkata</th>\n",
       "      <td>11645.17366</td>\n",
       "      <td>1500</td>\n",
       "      <td>180000</td>\n",
       "      <td>524</td>\n",
       "    </tr>\n",
       "    <tr>\n",
       "      <th>Mumbai</th>\n",
       "      <td>85321.20473</td>\n",
       "      <td>4500</td>\n",
       "      <td>1200000</td>\n",
       "      <td>972</td>\n",
       "    </tr>\n",
       "  </tbody>\n",
       "</table>\n",
       "</div>"
      ],
      "text/plain": [
       "                 Rent                     \n",
       "                 mean   min      max count\n",
       "City                                      \n",
       "Bangalore 24966.36569  3500  3500000   886\n",
       "Chennai   21614.09203  3000   600000   891\n",
       "Delhi     29461.98347  2000   530000   605\n",
       "Hyderabad 20555.04839  1200   400000   868\n",
       "Kolkata   11645.17366  1500   180000   524\n",
       "Mumbai    85321.20473  4500  1200000   972"
      ]
     },
     "execution_count": 24,
     "metadata": {},
     "output_type": "execute_result"
    }
   ],
   "source": [
    "rent_summary(\"City\")"
   ]
  },
  {
   "cell_type": "code",
   "execution_count": 25,
   "id": "c3d4934f",
   "metadata": {
    "execution": {
     "iopub.execute_input": "2022-08-18T13:21:32.915129Z",
     "iopub.status.busy": "2022-08-18T13:21:32.914407Z",
     "iopub.status.idle": "2022-08-18T13:21:32.928916Z",
     "shell.execute_reply": "2022-08-18T13:21:32.927909Z"
    },
    "papermill": {
     "duration": 0.032633,
     "end_time": "2022-08-18T13:21:32.931112",
     "exception": false,
     "start_time": "2022-08-18T13:21:32.898479",
     "status": "completed"
    },
    "tags": []
   },
   "outputs": [
    {
     "data": {
      "text/html": [
       "<div>\n",
       "<style scoped>\n",
       "    .dataframe tbody tr th:only-of-type {\n",
       "        vertical-align: middle;\n",
       "    }\n",
       "\n",
       "    .dataframe tbody tr th {\n",
       "        vertical-align: top;\n",
       "    }\n",
       "\n",
       "    .dataframe thead tr th {\n",
       "        text-align: left;\n",
       "    }\n",
       "\n",
       "    .dataframe thead tr:last-of-type th {\n",
       "        text-align: right;\n",
       "    }\n",
       "</style>\n",
       "<table border=\"1\" class=\"dataframe\">\n",
       "  <thead>\n",
       "    <tr>\n",
       "      <th></th>\n",
       "      <th colspan=\"4\" halign=\"left\">Rent</th>\n",
       "    </tr>\n",
       "    <tr>\n",
       "      <th></th>\n",
       "      <th>mean</th>\n",
       "      <th>min</th>\n",
       "      <th>max</th>\n",
       "      <th>count</th>\n",
       "    </tr>\n",
       "    <tr>\n",
       "      <th>Furnishing Status</th>\n",
       "      <th></th>\n",
       "      <th></th>\n",
       "      <th></th>\n",
       "      <th></th>\n",
       "    </tr>\n",
       "  </thead>\n",
       "  <tbody>\n",
       "    <tr>\n",
       "      <th>Furnished</th>\n",
       "      <td>56110.30588</td>\n",
       "      <td>1200</td>\n",
       "      <td>850000</td>\n",
       "      <td>680</td>\n",
       "    </tr>\n",
       "    <tr>\n",
       "      <th>Semi-Furnished</th>\n",
       "      <td>38718.81075</td>\n",
       "      <td>1500</td>\n",
       "      <td>3500000</td>\n",
       "      <td>2251</td>\n",
       "    </tr>\n",
       "    <tr>\n",
       "      <th>Unfurnished</th>\n",
       "      <td>22461.63581</td>\n",
       "      <td>2000</td>\n",
       "      <td>600000</td>\n",
       "      <td>1815</td>\n",
       "    </tr>\n",
       "  </tbody>\n",
       "</table>\n",
       "</div>"
      ],
      "text/plain": [
       "                         Rent                     \n",
       "                         mean   min      max count\n",
       "Furnishing Status                                 \n",
       "Furnished         56110.30588  1200   850000   680\n",
       "Semi-Furnished    38718.81075  1500  3500000  2251\n",
       "Unfurnished       22461.63581  2000   600000  1815"
      ]
     },
     "execution_count": 25,
     "metadata": {},
     "output_type": "execute_result"
    }
   ],
   "source": [
    "rent_summary(\"Furnishing Status\")"
   ]
  },
  {
   "cell_type": "code",
   "execution_count": 26,
   "id": "4b62f9b6",
   "metadata": {
    "execution": {
     "iopub.execute_input": "2022-08-18T13:21:32.962157Z",
     "iopub.status.busy": "2022-08-18T13:21:32.961390Z",
     "iopub.status.idle": "2022-08-18T13:21:32.970989Z",
     "shell.execute_reply": "2022-08-18T13:21:32.970061Z"
    },
    "papermill": {
     "duration": 0.027602,
     "end_time": "2022-08-18T13:21:32.973151",
     "exception": false,
     "start_time": "2022-08-18T13:21:32.945549",
     "status": "completed"
    },
    "tags": []
   },
   "outputs": [
    {
     "data": {
      "text/plain": [
       "Ttest_indResult(statistic=6.718043406720098, pvalue=2.0971925772574332e-11)"
      ]
     },
     "execution_count": 26,
     "metadata": {},
     "output_type": "execute_result"
    }
   ],
   "source": [
    "run_ttest_avg_rent(\"Furnishing Status\", \"Semi-Furnished\", \"Unfurnished\")"
   ]
  },
  {
   "cell_type": "code",
   "execution_count": 27,
   "id": "dbcc2efb",
   "metadata": {
    "execution": {
     "iopub.execute_input": "2022-08-18T13:21:33.004388Z",
     "iopub.status.busy": "2022-08-18T13:21:33.003630Z",
     "iopub.status.idle": "2022-08-18T13:21:33.018034Z",
     "shell.execute_reply": "2022-08-18T13:21:33.017227Z"
    },
    "papermill": {
     "duration": 0.032407,
     "end_time": "2022-08-18T13:21:33.020207",
     "exception": false,
     "start_time": "2022-08-18T13:21:32.987800",
     "status": "completed"
    },
    "tags": []
   },
   "outputs": [
    {
     "data": {
      "text/html": [
       "<div>\n",
       "<style scoped>\n",
       "    .dataframe tbody tr th:only-of-type {\n",
       "        vertical-align: middle;\n",
       "    }\n",
       "\n",
       "    .dataframe tbody tr th {\n",
       "        vertical-align: top;\n",
       "    }\n",
       "\n",
       "    .dataframe thead tr th {\n",
       "        text-align: left;\n",
       "    }\n",
       "\n",
       "    .dataframe thead tr:last-of-type th {\n",
       "        text-align: right;\n",
       "    }\n",
       "</style>\n",
       "<table border=\"1\" class=\"dataframe\">\n",
       "  <thead>\n",
       "    <tr>\n",
       "      <th></th>\n",
       "      <th colspan=\"4\" halign=\"left\">Rent</th>\n",
       "    </tr>\n",
       "    <tr>\n",
       "      <th></th>\n",
       "      <th>mean</th>\n",
       "      <th>min</th>\n",
       "      <th>max</th>\n",
       "      <th>count</th>\n",
       "    </tr>\n",
       "    <tr>\n",
       "      <th>Tenant Preferred</th>\n",
       "      <th></th>\n",
       "      <th></th>\n",
       "      <th></th>\n",
       "      <th></th>\n",
       "    </tr>\n",
       "  </thead>\n",
       "  <tbody>\n",
       "    <tr>\n",
       "      <th>Bachelors</th>\n",
       "      <td>42143.79398</td>\n",
       "      <td>3500</td>\n",
       "      <td>3500000</td>\n",
       "      <td>830</td>\n",
       "    </tr>\n",
       "    <tr>\n",
       "      <th>Bachelors/Family</th>\n",
       "      <td>31210.79268</td>\n",
       "      <td>1200</td>\n",
       "      <td>1200000</td>\n",
       "      <td>3444</td>\n",
       "    </tr>\n",
       "    <tr>\n",
       "      <th>Family</th>\n",
       "      <td>50020.34110</td>\n",
       "      <td>5000</td>\n",
       "      <td>1000000</td>\n",
       "      <td>472</td>\n",
       "    </tr>\n",
       "  </tbody>\n",
       "</table>\n",
       "</div>"
      ],
      "text/plain": [
       "                        Rent                     \n",
       "                        mean   min      max count\n",
       "Tenant Preferred                                 \n",
       "Bachelors        42143.79398  3500  3500000   830\n",
       "Bachelors/Family 31210.79268  1200  1200000  3444\n",
       "Family           50020.34110  5000  1000000   472"
      ]
     },
     "execution_count": 27,
     "metadata": {},
     "output_type": "execute_result"
    }
   ],
   "source": [
    "rent_summary(\"Tenant Preferred\")"
   ]
  },
  {
   "cell_type": "code",
   "execution_count": 28,
   "id": "34338d96",
   "metadata": {
    "execution": {
     "iopub.execute_input": "2022-08-18T13:21:33.052385Z",
     "iopub.status.busy": "2022-08-18T13:21:33.051737Z",
     "iopub.status.idle": "2022-08-18T13:21:33.061058Z",
     "shell.execute_reply": "2022-08-18T13:21:33.060041Z"
    },
    "papermill": {
     "duration": 0.028247,
     "end_time": "2022-08-18T13:21:33.063357",
     "exception": false,
     "start_time": "2022-08-18T13:21:33.035110",
     "status": "completed"
    },
    "tags": []
   },
   "outputs": [
    {
     "data": {
      "text/plain": [
       "Ttest_indResult(statistic=-1.1865922936048936, pvalue=0.23560527823306707)"
      ]
     },
     "execution_count": 28,
     "metadata": {},
     "output_type": "execute_result"
    }
   ],
   "source": [
    "run_ttest_avg_rent(\"Tenant Preferred\", \"Bachelors\", \"Family\")"
   ]
  },
  {
   "cell_type": "code",
   "execution_count": 29,
   "id": "062626ae",
   "metadata": {
    "execution": {
     "iopub.execute_input": "2022-08-18T13:21:33.095119Z",
     "iopub.status.busy": "2022-08-18T13:21:33.094716Z",
     "iopub.status.idle": "2022-08-18T13:21:33.112396Z",
     "shell.execute_reply": "2022-08-18T13:21:33.111528Z"
    },
    "papermill": {
     "duration": 0.036067,
     "end_time": "2022-08-18T13:21:33.114487",
     "exception": false,
     "start_time": "2022-08-18T13:21:33.078420",
     "status": "completed"
    },
    "tags": []
   },
   "outputs": [
    {
     "data": {
      "text/html": [
       "<div>\n",
       "<style scoped>\n",
       "    .dataframe tbody tr th:only-of-type {\n",
       "        vertical-align: middle;\n",
       "    }\n",
       "\n",
       "    .dataframe tbody tr th {\n",
       "        vertical-align: top;\n",
       "    }\n",
       "\n",
       "    .dataframe thead tr th {\n",
       "        text-align: left;\n",
       "    }\n",
       "\n",
       "    .dataframe thead tr:last-of-type th {\n",
       "        text-align: right;\n",
       "    }\n",
       "</style>\n",
       "<table border=\"1\" class=\"dataframe\">\n",
       "  <thead>\n",
       "    <tr>\n",
       "      <th></th>\n",
       "      <th colspan=\"4\" halign=\"left\">Rent</th>\n",
       "    </tr>\n",
       "    <tr>\n",
       "      <th></th>\n",
       "      <th>mean</th>\n",
       "      <th>min</th>\n",
       "      <th>max</th>\n",
       "      <th>count</th>\n",
       "    </tr>\n",
       "    <tr>\n",
       "      <th>Bathroom</th>\n",
       "      <th></th>\n",
       "      <th></th>\n",
       "      <th></th>\n",
       "      <th></th>\n",
       "    </tr>\n",
       "  </thead>\n",
       "  <tbody>\n",
       "    <tr>\n",
       "      <th>1</th>\n",
       "      <td>11862.16214</td>\n",
       "      <td>1500</td>\n",
       "      <td>100000</td>\n",
       "      <td>1474</td>\n",
       "    </tr>\n",
       "    <tr>\n",
       "      <th>2</th>\n",
       "      <td>25043.53819</td>\n",
       "      <td>3200</td>\n",
       "      <td>600000</td>\n",
       "      <td>2291</td>\n",
       "    </tr>\n",
       "    <tr>\n",
       "      <th>3</th>\n",
       "      <td>63176.69826</td>\n",
       "      <td>1200</td>\n",
       "      <td>3500000</td>\n",
       "      <td>749</td>\n",
       "    </tr>\n",
       "    <tr>\n",
       "      <th>4</th>\n",
       "      <td>167846.15385</td>\n",
       "      <td>15000</td>\n",
       "      <td>1200000</td>\n",
       "      <td>156</td>\n",
       "    </tr>\n",
       "    <tr>\n",
       "      <th>5</th>\n",
       "      <td>252350.00000</td>\n",
       "      <td>27000</td>\n",
       "      <td>680000</td>\n",
       "      <td>60</td>\n",
       "    </tr>\n",
       "    <tr>\n",
       "      <th>6</th>\n",
       "      <td>177500.00000</td>\n",
       "      <td>20000</td>\n",
       "      <td>400000</td>\n",
       "      <td>12</td>\n",
       "    </tr>\n",
       "    <tr>\n",
       "      <th>7</th>\n",
       "      <td>81666.66667</td>\n",
       "      <td>35000</td>\n",
       "      <td>150000</td>\n",
       "      <td>3</td>\n",
       "    </tr>\n",
       "    <tr>\n",
       "      <th>10</th>\n",
       "      <td>200000.00000</td>\n",
       "      <td>200000</td>\n",
       "      <td>200000</td>\n",
       "      <td>1</td>\n",
       "    </tr>\n",
       "  </tbody>\n",
       "</table>\n",
       "</div>"
      ],
      "text/plain": [
       "                 Rent                       \n",
       "                 mean     min      max count\n",
       "Bathroom                                    \n",
       "1         11862.16214    1500   100000  1474\n",
       "2         25043.53819    3200   600000  2291\n",
       "3         63176.69826    1200  3500000   749\n",
       "4        167846.15385   15000  1200000   156\n",
       "5        252350.00000   27000   680000    60\n",
       "6        177500.00000   20000   400000    12\n",
       "7         81666.66667   35000   150000     3\n",
       "10       200000.00000  200000   200000     1"
      ]
     },
     "execution_count": 29,
     "metadata": {},
     "output_type": "execute_result"
    }
   ],
   "source": [
    "rent_summary(\"Bathroom\")"
   ]
  },
  {
   "cell_type": "code",
   "execution_count": 30,
   "id": "ec3a406d",
   "metadata": {
    "execution": {
     "iopub.execute_input": "2022-08-18T13:21:33.147112Z",
     "iopub.status.busy": "2022-08-18T13:21:33.146478Z",
     "iopub.status.idle": "2022-08-18T13:21:33.161331Z",
     "shell.execute_reply": "2022-08-18T13:21:33.160279Z"
    },
    "papermill": {
     "duration": 0.033796,
     "end_time": "2022-08-18T13:21:33.163448",
     "exception": false,
     "start_time": "2022-08-18T13:21:33.129652",
     "status": "completed"
    },
    "tags": []
   },
   "outputs": [
    {
     "data": {
      "text/html": [
       "<div>\n",
       "<style scoped>\n",
       "    .dataframe tbody tr th:only-of-type {\n",
       "        vertical-align: middle;\n",
       "    }\n",
       "\n",
       "    .dataframe tbody tr th {\n",
       "        vertical-align: top;\n",
       "    }\n",
       "\n",
       "    .dataframe thead tr th {\n",
       "        text-align: left;\n",
       "    }\n",
       "\n",
       "    .dataframe thead tr:last-of-type th {\n",
       "        text-align: right;\n",
       "    }\n",
       "</style>\n",
       "<table border=\"1\" class=\"dataframe\">\n",
       "  <thead>\n",
       "    <tr>\n",
       "      <th></th>\n",
       "      <th colspan=\"4\" halign=\"left\">Rent</th>\n",
       "    </tr>\n",
       "    <tr>\n",
       "      <th></th>\n",
       "      <th>mean</th>\n",
       "      <th>min</th>\n",
       "      <th>max</th>\n",
       "      <th>count</th>\n",
       "    </tr>\n",
       "    <tr>\n",
       "      <th>Point of Contact</th>\n",
       "      <th></th>\n",
       "      <th></th>\n",
       "      <th></th>\n",
       "      <th></th>\n",
       "    </tr>\n",
       "  </thead>\n",
       "  <tbody>\n",
       "    <tr>\n",
       "      <th>Contact Agent</th>\n",
       "      <td>73481.15893</td>\n",
       "      <td>5000</td>\n",
       "      <td>3500000</td>\n",
       "      <td>1529</td>\n",
       "    </tr>\n",
       "    <tr>\n",
       "      <th>Contact Builder</th>\n",
       "      <td>5500.00000</td>\n",
       "      <td>5500</td>\n",
       "      <td>5500</td>\n",
       "      <td>1</td>\n",
       "    </tr>\n",
       "    <tr>\n",
       "      <th>Contact Owner</th>\n",
       "      <td>16704.20647</td>\n",
       "      <td>1200</td>\n",
       "      <td>600000</td>\n",
       "      <td>3216</td>\n",
       "    </tr>\n",
       "  </tbody>\n",
       "</table>\n",
       "</div>"
      ],
      "text/plain": [
       "                        Rent                     \n",
       "                        mean   min      max count\n",
       "Point of Contact                                 \n",
       "Contact Agent    73481.15893  5000  3500000  1529\n",
       "Contact Builder   5500.00000  5500     5500     1\n",
       "Contact Owner    16704.20647  1200   600000  3216"
      ]
     },
     "execution_count": 30,
     "metadata": {},
     "output_type": "execute_result"
    }
   ],
   "source": [
    "rent_summary(\"Point of Contact\")"
   ]
  },
  {
   "cell_type": "code",
   "execution_count": 31,
   "id": "3fc65441",
   "metadata": {
    "execution": {
     "iopub.execute_input": "2022-08-18T13:21:33.196388Z",
     "iopub.status.busy": "2022-08-18T13:21:33.195768Z",
     "iopub.status.idle": "2022-08-18T13:21:33.204971Z",
     "shell.execute_reply": "2022-08-18T13:21:33.203897Z"
    },
    "papermill": {
     "duration": 0.028089,
     "end_time": "2022-08-18T13:21:33.207048",
     "exception": false,
     "start_time": "2022-08-18T13:21:33.178959",
     "status": "completed"
    },
    "tags": []
   },
   "outputs": [
    {
     "data": {
      "text/plain": [
       "Ttest_indResult(statistic=24.875536189185514, pvalue=1.7116933486655452e-128)"
      ]
     },
     "execution_count": 31,
     "metadata": {},
     "output_type": "execute_result"
    }
   ],
   "source": [
    "run_ttest_avg_rent(\"Point of Contact\", \"Contact Agent\", \"Contact Owner\")"
   ]
  },
  {
   "cell_type": "code",
   "execution_count": 32,
   "id": "a39470aa",
   "metadata": {
    "execution": {
     "iopub.execute_input": "2022-08-18T13:21:33.240167Z",
     "iopub.status.busy": "2022-08-18T13:21:33.239743Z",
     "iopub.status.idle": "2022-08-18T13:21:35.096835Z",
     "shell.execute_reply": "2022-08-18T13:21:35.095732Z"
    },
    "papermill": {
     "duration": 1.876682,
     "end_time": "2022-08-18T13:21:35.099292",
     "exception": false,
     "start_time": "2022-08-18T13:21:33.222610",
     "status": "completed"
    },
    "tags": []
   },
   "outputs": [
    {
     "data": {
      "text/plain": [
       "<AxesSubplot:xlabel='Posted On', ylabel='Rent'>"
      ]
     },
     "execution_count": 32,
     "metadata": {},
     "output_type": "execute_result"
    },
    {
     "data": {
      "image/png": "[encoded data removed]",
      "text/plain": [
       "<Figure size 432x288 with 1 Axes>"
      ]
     },
     "metadata": {
      "needs_background": "light"
     },
     "output_type": "display_data"
    }
   ],
   "source": [
    "import seaborn as sns\n",
    "\n",
    "sns.lineplot(x = \"Posted On\", y = \"Rent\", data = rent_data)"
   ]
  },
  {
   "cell_type": "code",
   "execution_count": 33,
   "id": "69da926d",
   "metadata": {
    "execution": {
     "iopub.execute_input": "2022-08-18T13:21:35.133385Z",
     "iopub.status.busy": "2022-08-18T13:21:35.132972Z",
     "iopub.status.idle": "2022-08-18T13:21:35.155526Z",
     "shell.execute_reply": "2022-08-18T13:21:35.154396Z"
    },
    "papermill": {
     "duration": 0.042409,
     "end_time": "2022-08-18T13:21:35.158008",
     "exception": false,
     "start_time": "2022-08-18T13:21:35.115599",
     "status": "completed"
    },
    "tags": []
   },
   "outputs": [
    {
     "data": {
      "text/html": [
       "<div>\n",
       "<style scoped>\n",
       "    .dataframe tbody tr th:only-of-type {\n",
       "        vertical-align: middle;\n",
       "    }\n",
       "\n",
       "    .dataframe tbody tr th {\n",
       "        vertical-align: top;\n",
       "    }\n",
       "\n",
       "    .dataframe thead th {\n",
       "        text-align: right;\n",
       "    }\n",
       "</style>\n",
       "<table border=\"1\" class=\"dataframe\">\n",
       "  <thead>\n",
       "    <tr style=\"text-align: right;\">\n",
       "      <th></th>\n",
       "      <th>Posted On</th>\n",
       "      <th>BHK</th>\n",
       "      <th>Rent</th>\n",
       "      <th>Size</th>\n",
       "      <th>Floor</th>\n",
       "      <th>Area Type</th>\n",
       "      <th>Area Locality</th>\n",
       "      <th>City</th>\n",
       "      <th>Furnishing Status</th>\n",
       "      <th>Tenant Preferred</th>\n",
       "      <th>Bathroom</th>\n",
       "      <th>Point of Contact</th>\n",
       "      <th>posted_on_month</th>\n",
       "      <th>posted_on_weekday</th>\n",
       "      <th>posted_on_dayofyear</th>\n",
       "      <th>apartment_floor</th>\n",
       "      <th>total_floors</th>\n",
       "      <th>pct_up_building</th>\n",
       "      <th>Rent_transform</th>\n",
       "    </tr>\n",
       "  </thead>\n",
       "  <tbody>\n",
       "    <tr>\n",
       "      <th>0</th>\n",
       "      <td>2022-05-18</td>\n",
       "      <td>2</td>\n",
       "      <td>10000</td>\n",
       "      <td>1100</td>\n",
       "      <td>Ground out of 2</td>\n",
       "      <td>Super Area</td>\n",
       "      <td>Bandel</td>\n",
       "      <td>Kolkata</td>\n",
       "      <td>Unfurnished</td>\n",
       "      <td>Bachelors/Family</td>\n",
       "      <td>2</td>\n",
       "      <td>Contact Owner</td>\n",
       "      <td>5</td>\n",
       "      <td>2</td>\n",
       "      <td>138</td>\n",
       "      <td>1</td>\n",
       "      <td>2</td>\n",
       "      <td>0.50000</td>\n",
       "      <td>4.00000</td>\n",
       "    </tr>\n",
       "    <tr>\n",
       "      <th>1</th>\n",
       "      <td>2022-05-13</td>\n",
       "      <td>2</td>\n",
       "      <td>20000</td>\n",
       "      <td>800</td>\n",
       "      <td>1 out of 3</td>\n",
       "      <td>Super Area</td>\n",
       "      <td>Phool Bagan, Kankurgachi</td>\n",
       "      <td>Kolkata</td>\n",
       "      <td>Semi-Furnished</td>\n",
       "      <td>Bachelors/Family</td>\n",
       "      <td>1</td>\n",
       "      <td>Contact Owner</td>\n",
       "      <td>5</td>\n",
       "      <td>4</td>\n",
       "      <td>133</td>\n",
       "      <td>1</td>\n",
       "      <td>3</td>\n",
       "      <td>0.33333</td>\n",
       "      <td>4.30103</td>\n",
       "    </tr>\n",
       "    <tr>\n",
       "      <th>2</th>\n",
       "      <td>2022-05-16</td>\n",
       "      <td>2</td>\n",
       "      <td>17000</td>\n",
       "      <td>1000</td>\n",
       "      <td>1 out of 3</td>\n",
       "      <td>Super Area</td>\n",
       "      <td>Salt Lake City Sector 2</td>\n",
       "      <td>Kolkata</td>\n",
       "      <td>Semi-Furnished</td>\n",
       "      <td>Bachelors/Family</td>\n",
       "      <td>1</td>\n",
       "      <td>Contact Owner</td>\n",
       "      <td>5</td>\n",
       "      <td>0</td>\n",
       "      <td>136</td>\n",
       "      <td>1</td>\n",
       "      <td>3</td>\n",
       "      <td>0.33333</td>\n",
       "      <td>4.23045</td>\n",
       "    </tr>\n",
       "    <tr>\n",
       "      <th>3</th>\n",
       "      <td>2022-07-04</td>\n",
       "      <td>2</td>\n",
       "      <td>10000</td>\n",
       "      <td>800</td>\n",
       "      <td>1 out of 2</td>\n",
       "      <td>Super Area</td>\n",
       "      <td>Dumdum Park</td>\n",
       "      <td>Kolkata</td>\n",
       "      <td>Unfurnished</td>\n",
       "      <td>Bachelors/Family</td>\n",
       "      <td>1</td>\n",
       "      <td>Contact Owner</td>\n",
       "      <td>7</td>\n",
       "      <td>0</td>\n",
       "      <td>185</td>\n",
       "      <td>1</td>\n",
       "      <td>2</td>\n",
       "      <td>0.50000</td>\n",
       "      <td>4.00000</td>\n",
       "    </tr>\n",
       "    <tr>\n",
       "      <th>4</th>\n",
       "      <td>2022-05-09</td>\n",
       "      <td>2</td>\n",
       "      <td>7500</td>\n",
       "      <td>850</td>\n",
       "      <td>1 out of 2</td>\n",
       "      <td>Carpet Area</td>\n",
       "      <td>South Dum Dum</td>\n",
       "      <td>Kolkata</td>\n",
       "      <td>Unfurnished</td>\n",
       "      <td>Bachelors</td>\n",
       "      <td>1</td>\n",
       "      <td>Contact Owner</td>\n",
       "      <td>5</td>\n",
       "      <td>0</td>\n",
       "      <td>129</td>\n",
       "      <td>1</td>\n",
       "      <td>2</td>\n",
       "      <td>0.50000</td>\n",
       "      <td>3.87506</td>\n",
       "    </tr>\n",
       "  </tbody>\n",
       "</table>\n",
       "</div>"
      ],
      "text/plain": [
       "   Posted On  BHK   Rent  Size            Floor    Area Type  \\\n",
       "0 2022-05-18    2  10000  1100  Ground out of 2   Super Area   \n",
       "1 2022-05-13    2  20000   800       1 out of 3   Super Area   \n",
       "2 2022-05-16    2  17000  1000       1 out of 3   Super Area   \n",
       "3 2022-07-04    2  10000   800       1 out of 2   Super Area   \n",
       "4 2022-05-09    2   7500   850       1 out of 2  Carpet Area   \n",
       "\n",
       "              Area Locality     City Furnishing Status  Tenant Preferred  \\\n",
       "0                    Bandel  Kolkata       Unfurnished  Bachelors/Family   \n",
       "1  Phool Bagan, Kankurgachi  Kolkata    Semi-Furnished  Bachelors/Family   \n",
       "2   Salt Lake City Sector 2  Kolkata    Semi-Furnished  Bachelors/Family   \n",
       "3               Dumdum Park  Kolkata       Unfurnished  Bachelors/Family   \n",
       "4             South Dum Dum  Kolkata       Unfurnished         Bachelors   \n",
       "\n",
       "   Bathroom Point of Contact posted_on_month posted_on_weekday  \\\n",
       "0         2    Contact Owner               5                 2   \n",
       "1         1    Contact Owner               5                 4   \n",
       "2         1    Contact Owner               5                 0   \n",
       "3         1    Contact Owner               7                 0   \n",
       "4         1    Contact Owner               5                 0   \n",
       "\n",
       "   posted_on_dayofyear  apartment_floor  total_floors  pct_up_building  \\\n",
       "0                  138                1             2          0.50000   \n",
       "1                  133                1             3          0.33333   \n",
       "2                  136                1             3          0.33333   \n",
       "3                  185                1             2          0.50000   \n",
       "4                  129                1             2          0.50000   \n",
       "\n",
       "   Rent_transform  \n",
       "0         4.00000  \n",
       "1         4.30103  \n",
       "2         4.23045  \n",
       "3         4.00000  \n",
       "4         3.87506  "
      ]
     },
     "execution_count": 33,
     "metadata": {},
     "output_type": "execute_result"
    }
   ],
   "source": [
    "rent_data.head()"
   ]
  },
  {
   "cell_type": "code",
   "execution_count": null,
   "id": "e7f5f906",
   "metadata": {
    "papermill": {
     "duration": 0.015925,
     "end_time": "2022-08-18T13:21:35.190238",
     "exception": false,
     "start_time": "2022-08-18T13:21:35.174313",
     "status": "completed"
    },
    "tags": []
   },
   "outputs": [],
   "source": []
  }
 ],
 "metadata": {
  "kernelspec": {
   "display_name": "Python 3",
   "language": "python",
   "name": "python3"
  },
  "language_info": {
   "codemirror_mode": {
    "name": "ipython",
    "version": 3
   },
   "file_extension": ".py",
   "mimetype": "text/x-python",
   "name": "python",
   "nbconvert_exporter": "python",
   "pygments_lexer": "ipython3",
   "version": "3.7.12"
  },
  "papermill": {
   "default_parameters": {},
   "duration": 18.873605,
   "end_time": "2022-08-18T13:21:36.027687",
   "environment_variables": {},
   "exception": null,
   "input_path": "__notebook__.ipynb",
   "output_path": "__notebook__.ipynb",
   "parameters": {},
   "start_time": "2022-08-18T13:21:17.154082",
   "version": "2.3.4"
  }
 },
 "nbformat": 4,
 "nbformat_minor": 5
}
